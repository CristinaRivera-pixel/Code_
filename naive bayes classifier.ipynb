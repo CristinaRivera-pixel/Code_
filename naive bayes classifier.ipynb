{
 "cells": [
  {
   "cell_type": "code",
   "execution_count": 1,
   "metadata": {
    "collapsed": true
   },
   "outputs": [
    {
     "data": {
      "text/plain": "   id  label                                              tweet\n0   1      0   @user when a father is dysfunctional and is s...\n1   2      0  @user @user thanks for #lyft credit i can't us...\n2   3      0                                bihday your majesty\n3   4      0  #model   i love u take with u all the time in ...\n4   5      0             factsguide: society now    #motivation",
      "text/html": "<div>\n<style scoped>\n    .dataframe tbody tr th:only-of-type {\n        vertical-align: middle;\n    }\n\n    .dataframe tbody tr th {\n        vertical-align: top;\n    }\n\n    .dataframe thead th {\n        text-align: right;\n    }\n</style>\n<table border=\"1\" class=\"dataframe\">\n  <thead>\n    <tr style=\"text-align: right;\">\n      <th></th>\n      <th>id</th>\n      <th>label</th>\n      <th>tweet</th>\n    </tr>\n  </thead>\n  <tbody>\n    <tr>\n      <th>0</th>\n      <td>1</td>\n      <td>0</td>\n      <td>@user when a father is dysfunctional and is s...</td>\n    </tr>\n    <tr>\n      <th>1</th>\n      <td>2</td>\n      <td>0</td>\n      <td>@user @user thanks for #lyft credit i can't us...</td>\n    </tr>\n    <tr>\n      <th>2</th>\n      <td>3</td>\n      <td>0</td>\n      <td>bihday your majesty</td>\n    </tr>\n    <tr>\n      <th>3</th>\n      <td>4</td>\n      <td>0</td>\n      <td>#model   i love u take with u all the time in ...</td>\n    </tr>\n    <tr>\n      <th>4</th>\n      <td>5</td>\n      <td>0</td>\n      <td>factsguide: society now    #motivation</td>\n    </tr>\n  </tbody>\n</table>\n</div>"
     },
     "execution_count": 1,
     "metadata": {},
     "output_type": "execute_result"
    }
   ],
   "source": [
    "import pandas as pd\n",
    "\n",
    "import regex as re\n",
    "import wordcloud as wordcloud\n",
    "\n",
    "from sklearn.model_selection import train_test_split\n",
    "\n",
    "\n",
    "#import the data\n",
    "\n",
    "#Step 7: Load the Data\n",
    "\n",
    "df = pd.read_csv('train.csv')\n",
    "\n",
    "#get the first 5 rows of the data\n",
    "df.head(5)\n",
    "\n",
    "#train_test_split(df, test_size=0.2, random_state = 42)\n"
   ]
  },
  {
   "cell_type": "markdown",
   "source": [
    "In the cell below, I am preprocessing the text data. Since twitter data has the @ mentions i will want to remove those. I will also want to remove the hashtags (but no need to remove the word after as that will preserve some of the data. I also want to remove unncessary whitespaces."
   ],
   "metadata": {
    "collapsed": false,
    "pycharm": {
     "name": "#%% md\n"
    }
   }
  },
  {
   "cell_type": "code",
   "execution_count": 3,
   "outputs": [
    {
     "data": {
      "text/plain": "          id  label                                              tweet  \\\n0          1      0   @user when a father is dysfunctional and is s...   \n1          2      0  @user @user thanks for #lyft credit i can't us...   \n2          3      0                                bihday your majesty   \n3          4      0  #model   i love u take with u all the time in ...   \n4          5      0             factsguide: society now    #motivation   \n...      ...    ...                                                ...   \n31957  31958      0  ate @user isz that youuu?ðððððð...   \n31958  31959      0    to see nina turner on the airwaves trying to...   \n31959  31960      0  listening to sad songs on a monday morning otw...   \n31960  31961      1  @user #sikh #temple vandalised in in #calgary,...   \n31961  31962      0                   thank you @user for you follow     \n\n                                              clean text  \n0      when a father is dysfunctional and is so selfi...  \n1      thanks for lyft credit i can t use cause they ...  \n2                                    bihday your majesty  \n3          model i love u take with u all the time in ur  \n4                      factsguide society now motivation  \n...                                                  ...  \n31957                                 ate isz that youuu  \n31958  to see nina turner on the airwaves trying to w...  \n31959  listening to sad songs on a monday morning otw...  \n31960  sikh temple vandalised in in calgary wso conde...  \n31961                           thank you for you follow  \n\n[31962 rows x 4 columns]",
      "text/html": "<div>\n<style scoped>\n    .dataframe tbody tr th:only-of-type {\n        vertical-align: middle;\n    }\n\n    .dataframe tbody tr th {\n        vertical-align: top;\n    }\n\n    .dataframe thead th {\n        text-align: right;\n    }\n</style>\n<table border=\"1\" class=\"dataframe\">\n  <thead>\n    <tr style=\"text-align: right;\">\n      <th></th>\n      <th>id</th>\n      <th>label</th>\n      <th>tweet</th>\n      <th>clean text</th>\n    </tr>\n  </thead>\n  <tbody>\n    <tr>\n      <th>0</th>\n      <td>1</td>\n      <td>0</td>\n      <td>@user when a father is dysfunctional and is s...</td>\n      <td>when a father is dysfunctional and is so selfi...</td>\n    </tr>\n    <tr>\n      <th>1</th>\n      <td>2</td>\n      <td>0</td>\n      <td>@user @user thanks for #lyft credit i can't us...</td>\n      <td>thanks for lyft credit i can t use cause they ...</td>\n    </tr>\n    <tr>\n      <th>2</th>\n      <td>3</td>\n      <td>0</td>\n      <td>bihday your majesty</td>\n      <td>bihday your majesty</td>\n    </tr>\n    <tr>\n      <th>3</th>\n      <td>4</td>\n      <td>0</td>\n      <td>#model   i love u take with u all the time in ...</td>\n      <td>model i love u take with u all the time in ur</td>\n    </tr>\n    <tr>\n      <th>4</th>\n      <td>5</td>\n      <td>0</td>\n      <td>factsguide: society now    #motivation</td>\n      <td>factsguide society now motivation</td>\n    </tr>\n    <tr>\n      <th>...</th>\n      <td>...</td>\n      <td>...</td>\n      <td>...</td>\n      <td>...</td>\n    </tr>\n    <tr>\n      <th>31957</th>\n      <td>31958</td>\n      <td>0</td>\n      <td>ate @user isz that youuu?ðððððð...</td>\n      <td>ate isz that youuu</td>\n    </tr>\n    <tr>\n      <th>31958</th>\n      <td>31959</td>\n      <td>0</td>\n      <td>to see nina turner on the airwaves trying to...</td>\n      <td>to see nina turner on the airwaves trying to w...</td>\n    </tr>\n    <tr>\n      <th>31959</th>\n      <td>31960</td>\n      <td>0</td>\n      <td>listening to sad songs on a monday morning otw...</td>\n      <td>listening to sad songs on a monday morning otw...</td>\n    </tr>\n    <tr>\n      <th>31960</th>\n      <td>31961</td>\n      <td>1</td>\n      <td>@user #sikh #temple vandalised in in #calgary,...</td>\n      <td>sikh temple vandalised in in calgary wso conde...</td>\n    </tr>\n    <tr>\n      <th>31961</th>\n      <td>31962</td>\n      <td>0</td>\n      <td>thank you @user for you follow</td>\n      <td>thank you for you follow</td>\n    </tr>\n  </tbody>\n</table>\n<p>31962 rows × 4 columns</p>\n</div>"
     },
     "execution_count": 3,
     "metadata": {},
     "output_type": "execute_result"
    }
   ],
   "source": [
    "\n",
    "\n",
    "#remove the twitter handle from the text\n",
    "#removes @\n",
    "df['clean text'] = df['tweet']\n",
    "#removes # without removing the word\n",
    "#removes #\n",
    "df['clean text'] = df['clean text'].apply(lambda x: re.sub(r'@[A-Za-z0-9]+','',x))\n",
    "df['clean text'] = df['clean text'].apply(lambda x: re.sub(\"[^a-zA-Z]\", \" \", x))\n",
    "\n",
    "#df['clean text'] = df['clean text'].apply(lambda x: re.sub(r'#\\S+', '', x))\n",
    "#df['clean text'] = df['clean text'].apply(lambda x: re.sub(r'http\\S+', '', x))\n",
    "#df['clean text'] = df['clean text'].apply(lambda x: re.sub(r'RT', '', x))\n",
    "df['clean text'] = df['clean text'].apply(lambda x: re.sub(r'\\n', '', x))\n",
    "\n",
    "\n",
    "# tokenize the text\n",
    "df['tokenized text'] = df['clean text'].apply(lambda x: x.split())\n",
    "\n",
    "#join the tokens back together\n",
    "df['clean text'] = df['tokenized text'].apply(lambda x: ' '.join(x))\n",
    "\n",
    "#drop the tokenixed text column\n",
    "df.drop(columns = ['tokenized text'], inplace = True)\n",
    "\n",
    "#df.drop(columns = ['joined text'], inplace = True)\n",
    "df\n",
    "\n",
    "\n"
   ],
   "metadata": {
    "collapsed": false,
    "pycharm": {
     "name": "#%%\n"
    }
   }
  },
  {
   "cell_type": "code",
   "execution_count": 4,
   "outputs": [
    {
     "name": "stderr",
     "output_type": "stream",
     "text": [
      "[nltk_data] Downloading package stopwords to\n",
      "[nltk_data]     /Users/cristinarivera/nltk_data...\n",
      "[nltk_data]   Package stopwords is already up-to-date!\n"
     ]
    }
   ],
   "source": [
    "import nltk\n",
    "#remove the stop words\n",
    "from nltk.corpus import stopwords\n",
    "nltk.download('stopwords')\n",
    "from nltk.stem import PorterStemmer"
   ],
   "metadata": {
    "collapsed": false,
    "pycharm": {
     "name": "#%%\n"
    }
   }
  },
  {
   "cell_type": "code",
   "execution_count": 5,
   "outputs": [],
   "source": [
    "\n",
    "stop_words=stopwords.words('english')\n",
    "#add a stop word\n",
    "stop_words.append('rt')\n",
    "stop_words.append('amp')\n",
    "stemmer=PorterStemmer()\n",
    "\n"
   ],
   "metadata": {
    "collapsed": false,
    "pycharm": {
     "name": "#%%\n"
    }
   }
  },
  {
   "cell_type": "code",
   "execution_count": 6,
   "outputs": [
    {
     "data": {
      "text/plain": "          id  label                                              tweet  \\\n0          1      0   @user when a father is dysfunctional and is s...   \n1          2      0  @user @user thanks for #lyft credit i can't us...   \n2          3      0                                bihday your majesty   \n3          4      0  #model   i love u take with u all the time in ...   \n4          5      0             factsguide: society now    #motivation   \n...      ...    ...                                                ...   \n31957  31958      0  ate @user isz that youuu?ðððððð...   \n31958  31959      0    to see nina turner on the airwaves trying to...   \n31959  31960      0  listening to sad songs on a monday morning otw...   \n31960  31961      1  @user #sikh #temple vandalised in in #calgary,...   \n31961  31962      0                   thank you @user for you follow     \n\n                                              clean text  \n0          father dysfunct selfish drag kid dysfunct run  \n1      thank lyft credit use caus offer wheelchair va...  \n2                                         bihday majesti  \n3                            model love u take u time ur  \n4                                factsguid societi motiv  \n...                                                  ...  \n31957                                      ate isz youuu  \n31958  see nina turner airwav tri wrap mantl genuin h...  \n31959           listen sad song monday morn otw work sad  \n31960        sikh templ vandalis calgari wso condemn act  \n31961                                       thank follow  \n\n[31962 rows x 4 columns]",
      "text/html": "<div>\n<style scoped>\n    .dataframe tbody tr th:only-of-type {\n        vertical-align: middle;\n    }\n\n    .dataframe tbody tr th {\n        vertical-align: top;\n    }\n\n    .dataframe thead th {\n        text-align: right;\n    }\n</style>\n<table border=\"1\" class=\"dataframe\">\n  <thead>\n    <tr style=\"text-align: right;\">\n      <th></th>\n      <th>id</th>\n      <th>label</th>\n      <th>tweet</th>\n      <th>clean text</th>\n    </tr>\n  </thead>\n  <tbody>\n    <tr>\n      <th>0</th>\n      <td>1</td>\n      <td>0</td>\n      <td>@user when a father is dysfunctional and is s...</td>\n      <td>father dysfunct selfish drag kid dysfunct run</td>\n    </tr>\n    <tr>\n      <th>1</th>\n      <td>2</td>\n      <td>0</td>\n      <td>@user @user thanks for #lyft credit i can't us...</td>\n      <td>thank lyft credit use caus offer wheelchair va...</td>\n    </tr>\n    <tr>\n      <th>2</th>\n      <td>3</td>\n      <td>0</td>\n      <td>bihday your majesty</td>\n      <td>bihday majesti</td>\n    </tr>\n    <tr>\n      <th>3</th>\n      <td>4</td>\n      <td>0</td>\n      <td>#model   i love u take with u all the time in ...</td>\n      <td>model love u take u time ur</td>\n    </tr>\n    <tr>\n      <th>4</th>\n      <td>5</td>\n      <td>0</td>\n      <td>factsguide: society now    #motivation</td>\n      <td>factsguid societi motiv</td>\n    </tr>\n    <tr>\n      <th>...</th>\n      <td>...</td>\n      <td>...</td>\n      <td>...</td>\n      <td>...</td>\n    </tr>\n    <tr>\n      <th>31957</th>\n      <td>31958</td>\n      <td>0</td>\n      <td>ate @user isz that youuu?ðððððð...</td>\n      <td>ate isz youuu</td>\n    </tr>\n    <tr>\n      <th>31958</th>\n      <td>31959</td>\n      <td>0</td>\n      <td>to see nina turner on the airwaves trying to...</td>\n      <td>see nina turner airwav tri wrap mantl genuin h...</td>\n    </tr>\n    <tr>\n      <th>31959</th>\n      <td>31960</td>\n      <td>0</td>\n      <td>listening to sad songs on a monday morning otw...</td>\n      <td>listen sad song monday morn otw work sad</td>\n    </tr>\n    <tr>\n      <th>31960</th>\n      <td>31961</td>\n      <td>1</td>\n      <td>@user #sikh #temple vandalised in in #calgary,...</td>\n      <td>sikh templ vandalis calgari wso condemn act</td>\n    </tr>\n    <tr>\n      <th>31961</th>\n      <td>31962</td>\n      <td>0</td>\n      <td>thank you @user for you follow</td>\n      <td>thank follow</td>\n    </tr>\n  </tbody>\n</table>\n<p>31962 rows × 4 columns</p>\n</div>"
     },
     "execution_count": 6,
     "metadata": {},
     "output_type": "execute_result"
    }
   ],
   "source": [
    "#remove the stop words\n",
    "df['clean text'] = df['clean text'].apply(lambda x: ' '.join([stemmer.stem(i) for i in x.split() if i not in stop_words]))\n",
    "\n",
    "df"
   ],
   "metadata": {
    "collapsed": false,
    "pycharm": {
     "name": "#%%\n"
    }
   }
  },
  {
   "cell_type": "code",
   "execution_count": 32,
   "outputs": [],
   "source": [
    "#get the hate speech labels only and put them in a list\n",
    "#hate speech is 1\n",
    "\n",
    "from sklearn.feature_extraction.text import CountVectorizer\n",
    "\n",
    "#frequency representation\n",
    "from nltk.stem import WordNetLemmatizer\n",
    "cv=CountVectorizer(max_features=1500)\n",
    "#get the bag of words\n",
    "X=cv.fit_transform(df['clean text']).toarray()\n",
    "\n",
    "#sort the words in the dictionary from most frequent to least frequent\n",
    "word_freq={k: v for k, v in sorted(cv.vocabulary_.items(),reverse=True, key=lambda item: item[1])}\n",
    "\n",
    "\n",
    "\n",
    "#X.shape\n",
    "\n",
    "\n"
   ],
   "metadata": {
    "collapsed": false,
    "pycharm": {
     "name": "#%%\n"
    }
   }
  },
  {
   "cell_type": "code",
   "execution_count": 33,
   "outputs": [
    {
     "name": "stderr",
     "output_type": "stream",
     "text": [
      "/var/folders/8x/smqvb831281gbpj31c5yz_600000gn/T/ipykernel_45901/3318217625.py:3: SettingWithCopyWarning: \n",
      "A value is trying to be set on a copy of a slice from a DataFrame\n",
      "\n",
      "See the caveats in the documentation: https://pandas.pydata.org/pandas-docs/stable/user_guide/indexing.html#returning-a-view-versus-a-copy\n",
      "  hate_speech_df.drop(columns = ['tweet'], inplace = True)\n"
     ]
    },
    {
     "name": "stdout",
     "output_type": "stream",
     "text": [
      "          id  label                                         clean text\n",
      "13        14      1  cnn call michigan middl school build wall chan...\n",
      "14        15      1  comment australia opkillingbay seashepherd hel...\n",
      "17        18      1                                       retweet agre\n",
      "23        24      1                              lumpi say prove lumpi\n",
      "34        35      1  unbeliev st centuri need someth like neverump ...\n",
      "...      ...    ...                                                ...\n",
      "31934  31935      1            ladi ban kentucki mall jcpenni kentucki\n",
      "31946  31947      1   omfg offend mailbox proud mailboxprid liberalism\n",
      "31947  31948      1    ball hashtag say weasel away lumpi toni dipshit\n",
      "31948  31949      1                  make ask anybodi god oh thank god\n",
      "31960  31961      1        sikh templ vandalis calgari wso condemn act\n",
      "\n",
      "[2242 rows x 3 columns]\n",
      "{'trump': 217, 'white': 159, 'libtard': 150, 'black': 149, 'like': 144, 'racist': 114, 'polit': 101, 'peopl': 95, 'liber': 93, 'hate': 93, 'allahsoil': 92, 'obama': 83, 'say': 79, 'women': 79, 'might': 77, 'sjw': 75, 'new': 72, 'retweet': 68, 'racism': 66, 'call': 64, 'us': 63, 'feel': 63, 'listen': 61, 'right': 57, 'america': 54, 'ignor': 53, 'word': 53, 'get': 53, 'comment': 52, 'one': 51, 'girl': 50, 'video': 50, 'race': 49, 'stomp': 48, 'men': 46, 'miami': 46, 'need': 45, 'via': 45, 'go': 45, 'fuck': 44, 'year': 44, 'woman': 43, 'make': 43, 'thank': 43, 'would': 40, 'think': 40, 'stop': 39, 'look': 38, 'bigot': 37, 'want': 37, 'act': 37, 'love': 36, 'man': 36, 'american': 36, 'sex': 35, 'never': 34, 'blm': 34, 'good': 34, 'show': 33, 'let': 32, 'time': 32, 'hatr': 32, 'tampa': 32, 'latest': 32, 'live': 32, 'brexit': 31, 'w': 31, 'guy': 31, 'great': 30, 'polic': 30, 'u': 30, 'muslim': 30, 'presid': 29, 'hispan': 29, 'world': 28, 'see': 28, 'pay': 28, 'back': 27, 'condemn': 27, 'sikh': 27, 'calgari': 27, 'suppoer': 27, 'paladino': 27, 'use': 26, 'come': 26, 'media': 26, 'misogynist': 26, 'templ': 26, 'vandalis': 26, 'wso': 26, 'teambt': 26, 'hope': 25, 'noth': 25, 'porn': 25, 'jew': 25, 'equal': 25, 'maga': 25, 'know': 25, 'vote': 24, 'malevot': 24, 'islam': 24, 'keep': 24, 'still': 24, 'believ': 24, 'boricua': 24, 'thing': 23, 'even': 23, 'mani': 23, 'anti': 23, 'read': 23, 'usa': 23, 'misogyni': 23, 'realli': 23, 'work': 23, 'ever': 23, 'emirati': 23, 'pleas': 23, 'histori': 23, 'kkk': 23, 'school': 22, 'seashepherd': 22, 'thought': 22, 'nazi': 22, 'mean': 22, 'daili': 22, 'tell': 22, 'tweet': 22, 'much': 22, 'bigotri': 21, 'blacklivesmatt': 21, 'offic': 21, 'real': 21, 'wish': 21, 'news': 21, 'help': 21, 'leadership': 21, 'left': 21, 'lie': 20, 'countri': 20, 'feminismiscanc': 20, 'feminismisterror': 20, 'feminismmuktbharat': 20, 'got': 20, 'joke': 20, 'also': 20, 'way': 20, 'antirac': 20, 'factori': 20, 'protest': 19, 'take': 19, 'talk': 19, 'attack': 19, 'speak': 19, 'end': 19, 'resist': 19, 'sea': 19, 'shepherd': 19, 'christma': 19, 'altright': 18, 'said': 18, 'free': 18, 'must': 18, 'notmypresid': 18, 'face': 18, 'c': 18, 'kill': 18, 'republican': 17, 'remark': 17, 'suppo': 17, 'stand': 17, 'femin': 17, 'book': 17, 'today': 17, 'everi': 17, 'fear': 17, 'christian': 17, 'person': 17, 'educ': 17, 'carl': 17, 'p': 16, 'homophob': 16, 'busi': 16, 'alli': 16, 'ass': 16, 'first': 16, 'post': 16, 'alway': 16, 'resign': 16, 'day': 16, 'male': 16, 'kind': 16, 'give': 16, 'boycott': 16, 'cnn': 15, 'power': 15, 'tri': 15, 'asian': 15, 'win': 15, 'carlpaladino': 15, 'next': 15, 'elect': 15, 'problem': 15, 'semit': 15, 'uk': 15, 'israel': 15, 'terror': 15, 'claim': 15, 'fire': 15, 'stupid': 15, 'war': 15, 'matter': 15, 'newyork': 15, 'someon': 15, 'done': 15, 'r': 15, 'job': 15, 'human': 15, 'tcot': 14, 'african': 14, 'co': 14, 'everyon': 14, 'discrimin': 14, 'system': 14, 'b': 14, 'fascism': 14, 'pa': 14, 'immigr': 14, 'chang': 14, 'play': 14, 'religion': 14, 'fascist': 14, 'xenophobia': 13, 'made': 13, 'chair': 13, 'michel': 13, 'rape': 13, 'newyear': 13, 'differ': 13, 'alt': 13, 'better': 13, 'watch': 13, 'truth': 13, 'enough': 13, 'profil': 13, 'toward': 13, 'abus': 13, 'mad': 13, 'southafrica': 13, 'oil': 13, 'nation': 13, 'putinschoic': 13, 'racial': 13, 'surpris': 13, 'promot': 12, 'hey': 12, 'fuher': 12, 'million': 12, 'state': 12, 'die': 12, 'antisemit': 12, 'theresist': 12, 'kid': 12, 'definit': 12, 'famili': 12, 'aicl': 12, 'allow': 12, 'lost': 12, 'ppl': 12, 'color': 12, 'happi': 12, 'well': 12, 'true': 12, 'team': 12, 'japan': 12, 'nude': 12, 'commun': 12, 'bulli': 12, 'disgust': 12, 'sad': 12, 'reject': 12, 'islamophobia': 12, 'teamsuperjunior': 12, 'happen': 12, 'anoth': 12, 'find': 12, 'reflect': 12, 'leav': 12, 'other': 12, 'messag': 12, 'accept': 12, 'boy': 12, 'polaris': 12, 'uselect': 12, 'death': 12, 'nake': 12, 'wall': 11, 'agre': 11, 'game': 11, 'ad': 11, 'social': 11, 'home': 11, 'without': 11, 'children': 11, 'caus': 11, 'traitor': 11, 'critic': 11, 'god': 11, 'idiot': 11, 'pig': 11, 'shit': 11, 'cours': 11, 'follow': 11, 'cow': 11, 'send': 11, 'offici': 11, 'treason': 11, 'hillari': 11, 'action': 11, 'campaign': 11, 'wait': 11, 'gt': 11, 'list': 11, 'n': 11, 'term': 11, 'ye': 10, 'point': 10, 'ny': 10, 'arrest': 10, 'becom': 10, 'danger': 10, 'non': 10, 'sexist': 10, 'proud': 10, 'murder': 10, 'that': 10, 'worst': 10, 'buffalo': 10, 'dear': 10, 'liar': 10, 'may': 10, 'gop': 10, 'hard': 10, 'chick': 10, 'polici': 10, 'arab': 10, 'vs': 10, 'alreadi': 10, 'fan': 10, 'check': 10, 'ladi': 10, 'everyth': 10, 'ask': 10, 'miss': 10, 'stori': 10, 'destroy': 10, 'peac': 9, 'stereotyp': 9, 'offer': 9, 'troll': 9, 'law': 9, 'rapist': 9, 'nigger': 9, 'whitepeopl': 9, 'putin': 9, 'justic': 9, 'stoprac': 9, 'terrorist': 9, 'yet': 9, 'rest': 9, 'issu': 9, 'turn': 9, 'govern': 9, 'group': 9, 'bbc': 9, 'name': 9, 'dumb': 9, 'flag': 9, 'expect': 9, 'far': 9, 'democrat': 9, 'asshol': 9, 'could': 9, 'hear': 9, 'board': 9, 'diseas': 9, 'join': 9, 'brown': 9, 'sick': 9, 'denial': 9, 'inequ': 9, 'wtf': 9, 'cultur': 9, 'realiz': 9, 'wow': 9, 'russia': 9, 'ht': 9, 'donaldtrump': 9, 'mayb': 9, 'wrong': 9, 'flight': 9, 'neverump': 8, 'fight': 8, 'run': 8, 'michelleobama': 8, 'hand': 8, 'open': 8, 'statement': 8, 'prevent': 8, 'ugli': 8, 'progress': 8, 'evil': 8, 'impress': 8, 'blame': 8, 'best': 8, 'forget': 8, 'judg': 8, 'victim': 8, 'self': 8, 'combat': 8, 'feminist': 8, 'nationalist': 8, 'question': 8, 'mil': 8, 'serv': 8, 'big': 8, 'forc': 8, 'unleash': 8, 'effect': 8, 'idea': 8, 'market': 8, 'sta': 8, 'isra': 8, 'jewish': 8, 'shut': 8, 'last': 8, 'friend': 8, 'music': 8, 'total': 8, 'industri': 8, 'session': 8, 'decad': 8, 'record': 8, 'ag': 8, 'societi': 8, 'goe': 8, 'anyon': 8, 'reveal': 8, 'th': 8, 'close': 8, 'lol': 8, 'respons': 8, 'expos': 8, 'extrem': 8, 'mother': 8, 'ur': 8, 'class': 8, 'celebr': 8, 'fought': 8, 'auspol': 8, 'bad': 8, 'seem': 8, 'realiti': 8, 'present': 8, 'twitter': 8, 'voter': 8, 'crazi': 8, 'gender': 8, 'lot': 8, 'australia': 7, 'prove': 7, 'suck': 7, 'old': 7, 'pass': 7, 'answer': 7, 'pic': 7, 'origin': 7, 'africa': 7, 'sexi': 7, 'deplor': 7, 'money': 7, 'slaveri': 7, 'jan': 7, 'opposit': 7, 'palestinian': 7, 'minor': 7, 'citi': 7, 'sign': 7, 'pussi': 7, 'revers': 7, 'age': 7, 'hollywood': 7, 'mc': 7, 'phillysuppophilli': 7, 'target': 7, 'illeg': 7, 'thrown': 7, 'newswith': 7, 'exist': 7, 'revolut': 7, 'preorder': 7, 'explain': 7, 'marijuana': 7, 'oppos': 7, 'assault': 7, 'violent': 7, 'deal': 7, 'outrag': 7, 'defend': 7, 'harass': 7, 'confirm': 7, 'inaugur': 7, 'member': 7, 'heal': 7, 'reason': 7, 'damn': 7, 'fool': 7, 'mr': 7, 'south': 7, 'life': 7, 'fact': 7, 'teach': 7, 'moron': 7, 'da': 7, 'cop': 7, 'fat': 7, 'project': 7, 'whiteprivileg': 7, 'sexism': 7, 'anc': 7, 'anyth': 7, 'cologn': 7, 'wonder': 7, 'oh': 7, 'swiftli': 7, 'sharpen': 7, 'fang': 7, 'notic': 7, 'understand': 7, 'church': 7, 'root': 7, 'bit': 7, 'jeffsess': 7, 'msnbc': 7, 'build': 6, 'lumpi': 6, 'st': 6, 'around': 6, 'whitesupremaci': 6, 'interest': 6, 'bring': 6, 'gorilla': 6, 'long': 6, 'public': 6, 'block': 6, 'rant': 6, 'biher': 6, 'potu': 6, 'woh': 6, 'discuss': 6, 'hypocrit': 6, 'vid': 6, 'mexican': 6, 'hater': 6, 'hous': 6, 'wear': 6, 'crimin': 6, 'guess': 6, 'small': 6, 'mind': 6, 'week': 6, 'violenc': 6, 'im': 6, 'privileg': 6, 'fake': 6, 'donkey': 6, 'zionazi': 6, 'xenophob': 6, 'gay': 6, 'humanright': 6, 'fail': 6, 'type': 6, 'order': 6, 'buy': 6, 'shot': 6, 'land': 6, 'care': 6, 'wh': 6, 'meant': 6, 'genocid': 6, 'serious': 6, 'less': 6, 'threaten': 6, 'dystopian': 6, 'corrupt': 6, 'holiday': 6, 'ibook': 6, 'nyc': 6, 'texa': 6, 'dad': 6, 'walk': 6, 'meme': 6, 'scienc': 6, 'son': 6, 'either': 6, 'disgrac': 6, 'jeff': 6, 'india': 6, 'fakenew': 6, 'transform': 6, 'fraud': 6, 'spread': 6, 'appar': 6, 'hell': 6, 'adulteri': 6, 'perform': 6, 'begin': 6, 'treat': 6, 'propaganda': 6, 'share': 6, 'normal': 6, 'ball': 6, 'ape': 6, 'enemi': 6, 'putinspuppet': 6, 'indian': 6, 'swastika': 6, 'scum': 6, 'dead': 6, 'wife': 6, 'lt': 6, 'yr': 6, 'policebrut': 6, 'given': 6, 'po': 6, 'milo': 6, 'insult': 6, 'lgbt': 6, 'extremist': 6, 'blicqer': 6, 'tech': 6, 'dare': 6, 'spark': 6, 'singl': 6, 'bitch': 6, 'father': 6, 'repo': 6, 'freedom': 6, 'funni': 6, 'skin': 6, 'e': 6, 'pre': 6, 'zionism': 6, 'perhap': 6, 'korean': 6, 'hair': 6, 'povey': 6, 'hot': 6, 'coloni': 6, 'f': 6, 'environment': 6, 'opkillingbay': 5, 'trash': 5, 'nice': 5, 'horribl': 5, 'light': 5, 'green': 5, 'town': 5, 'absolut': 5, 'rude': 5, 'crime': 5, 'cleveland': 5, 'openli': 5, 'respect': 5, 'poor': 5, 'leader': 5, 'apaheid': 5, 'homophobia': 5, 'past': 5, 'tedtalk': 5, 'opinion': 5, 'base': 5, 'isi': 5, 'research': 5, 'defin': 5, 'space': 5, 'major': 5, 'disappoint': 5, 'politician': 5, 'togeth': 5, 'move': 5, 'except': 5, 'commerci': 5, 'smh': 5, 'ethnic': 5, 'footbal': 5, 'meet': 5, 'newyearsev': 5, 'refuge': 5, 'rohingya': 5, 'teen': 5, 'hire': 5, 'silenc': 5, 'dick': 5, 'fli': 5, 'half': 5, 'trumpsamerica': 5, 'controversi': 5, 'occur': 5, 'ri': 5, 'knew': 5, 'tale': 5, 'radicalis': 5, 'reveng': 5, 'crisi': 5, 'fund': 5, 'cover': 5, 'europ': 5, 'unit': 5, 'denounc': 5, 'hatespeech': 5, 'learn': 5, 'feed': 5, 'dem': 5, 'prison': 5, 'divers': 5, 'parent': 5, 'remov': 5, 'lose': 5, 'genet': 5, 'speech': 5, 'excel': 5, 'hang': 5, 'unpresid': 5, 'hunger': 5, 'seal': 5, 'incest': 5, 'pedophilia': 5, 'snowflak': 5, 'york': 5, 'plz': 5, 'littl': 5, 'leftist': 5, 'iq': 5, 'brother': 5, 'shame': 5, 'landhold': 5, 'reaction': 5, 'languag': 5, 'respond': 5, 'clinton': 5, 'common': 5, 'slur': 5, 'winner': 5, 'stone': 5, 'relev': 5, 'write': 5, 'ok': 5, 'dude': 5, 'content': 5, 'mt': 5, 'kentucki': 5, 'pick': 5, 'greed': 5, 'hatecrim': 5, 'rwnj': 5, 'ableism': 5, 'staff': 5, 'ago': 5, 'away': 5, 'star': 5, 'came': 5, 'injustic': 5, 'plan': 5, 'activist': 5, 'strong': 5, 'case': 5, 'palestin': 5, 'bodi': 5, 'gonna': 5, 'full': 5, 'blog': 5, 'h': 5, 'eah': 5, 'univers': 5, 'adam': 5, 'neighbor': 5, 'impoant': 5, 'charl': 5, 'quot': 5, 'indigen': 5, 'insan': 5, 'trigger': 5, 'brand': 5, 'canada': 5, 'experi': 5, 'icon': 5, 'valu': 5, 'attent': 5, 'though': 5, 'expat': 5, 'heard': 5, 'hr': 5, 'put': 5, 'form': 5, 'pictur': 5, 'sexualpred': 5, 'almost': 5, 'whitegenocid': 5, 'movement': 5, 'coupl': 5, 'concept': 5, 'buddi': 5, 'donald': 5, 'journal': 5, 'blatant': 5, 'alabama': 5, 'main': 5, 'street': 5, 'piss': 5, 'charg': 5, 'freemilo': 5, 'thecov': 4, 'unbeliev': 4, 'address': 4, 'prejudic': 4, 'creat': 4, 'found': 4, 'young': 4, 'fo': 4, 'chief': 4, 'familiar': 4, 'evid': 4, 'compani': 4, 'press': 4, 'shi': 4, 'minut': 4, 'vile': 4, 'advanc': 4, 'lack': 4, 'entir': 4, 'whilst': 4, 'trumpusa': 4, 'jealou': 4, 'endof': 4, 'tedatibm': 4, 'hide': 4, 'attract': 4, 'bc': 4, 'histor': 4, 'ra': 4, 'rid': 4, 'syria': 4, 'profit': 4, 'treasonoustrump': 4, 'yay': 4, 'destruct': 4, 'democraticpay': 4, 'hitler': 4, 'boot': 4, 'tyler': 4, 'perri': 4, 'dont': 4, 'logic': 4, 'level': 4, 'excus': 4, 'hillaryclinton': 4, 'wanna': 4, 'id': 4, 'anywher': 4, 'harm': 4, 'hrc': 4, 'number': 4, 'renown': 4, 'traffic': 4, 'within': 4, 'seen': 4, 'conserv': 4, 'facebook': 4, 'rule': 4, 'travel': 4, 'mast': 4, 'site': 4, 'high': 4, 'militari': 4, 'instead': 4, 'santa': 4, 'marx': 4, 'dictionari': 4, 'x': 4, 'antiblack': 4, 'line': 4, 'trumpism': 4, 'lead': 4, 'often': 4, 'correct': 4, 'clearli': 4, 'alleg': 4, 'servic': 4, 'eu': 4, 'xian': 4, 'rememb': 4, 'lesson': 4, 'greenspan': 4, 'humili': 4, 'stay': 4, 'date': 4, 'offens': 4, 'typic': 4, 'podcast': 4, 'ideolog': 4, 'bout': 4, 'abt': 4, 'choke': 4, 'atlanta': 4, 'omit': 4, 'coal': 4, 'ash': 4, 'eye': 4, 'audiblechannel': 4, 'wast': 4, 'dictat': 4, 'deep': 4, 'em': 4, 'settlement': 4, 'dark': 4, 'notmypr': 4, 'bear': 4, 'rapaci': 4, 'doom': 4, 'piec': 4, 'decid': 4, 'valid': 4, 'etc': 4, 'smoke': 4, 'cloth': 4, 'horrifi': 4, 'accus': 4, 'eat': 4, 'food': 4, 'supremaci': 4, 'requir': 4, 'eve': 4, 'add': 4, 'disrespect': 4, 'kevin': 4, 'ethnocentr': 4, 'whole': 4, 'candid': 4, 'conflat': 4, 'hole': 4, 'brain': 4, 'vandal': 4, 'imposs': 4, 'neutral': 4, 'relat': 4, 'monster': 4, 'releas': 4, 'grow': 4, 'bill': 4, 'declar': 4, 'movi': 4, 'challeng': 4, 'truli': 4, 'none': 4, 'gone': 4, 'joe': 4, 'nigga': 4, 'cold': 4, 'program': 4, 'jcpenni': 4, 'klan': 4, 'endors': 4, 'democraci': 4, 'quit': 4, 'hood': 4, 'practic': 4, 'anim': 4, 'ya': 4, 'aliv': 4, 'dismantl': 4, 'council': 4, 'agenda': 4, 'tv': 4, 'loser': 4, 'regard': 4, 'htt': 4, 'unifi': 4, 'els': 4, 'intoler': 4, 'student': 4, 'german': 4, 'tour': 4, 'communist': 4, 'cou': 4, 'con': 4, 'especi': 4, 'tho': 4, 'debat': 4, 'fair': 4, 'delet': 4, 'account': 4, 'happyholiday': 4, 'guilti': 4, 'tlot': 4, 'mark': 4, 'k': 4, 'mtv': 4, 'welcom': 4, 'low': 4, 'boob': 4, 'final': 4, 'slam': 4, 'assum': 4, 'purpos': 4, 'result': 4, 'photo': 4, 'australian': 4, 'comedi': 4, 'pretti': 4, 'citizen': 4, 'delta': 4, 'civil': 4, 'driver': 4, 'posit': 4, 'narr': 4, 'despit': 4, 'mix': 4, 'toler': 4, 'slave': 4, 'cr': 4, 'blacktwitt': 4, 'sound': 4, 'told': 4, 'commit': 4, 'omg': 4, 'least': 4, 'yeah': 4, 'joseon': 4, 'rough': 4, 'demo': 4, 'save': 4, 'jihad': 4, 'scream': 4, 'ove': 4, 'l': 4, 'place': 4, 'biden': 4, 'rebellion': 4, 'pro': 4, 'cdnpoli': 4, 'advic': 4, 'fall': 4, 'second': 4, 'prevail': 4, 'whitesupremacist': 4, 'chain': 4, 'angri': 4, 'rapecultur': 4, 'chines': 4, 'mma': 4, 'refugeeswelcom': 4, 'outsid': 4, 'special': 4, 'chant': 3, 'helpcovedolphin': 3, 'centuri': 3, 'someth': 3, 'establish': 3, 'blk': 3, 'folx': 3, 'hold': 3, 'biggest': 3, 'bluelivesmatt': 3, 'draintheswamp': 3, 'otherwis': 3, 'beyond': 3, 'studi': 3, 'eugen': 3, 'viral': 3, 'difficult': 3, 'antiwhit': 3, 'bluntli': 3, 'advoc': 3, 'radio': 3, 'lifelesson': 3, 'vp': 3, 'multi': 3, 'dollar': 3, 'averag': 3, 'possibl': 3, 'incred': 3, 'professor': 3, 'retard': 3, 'msg': 3, 'oppress': 3, 'radic': 3, 'adamsaleh': 3, 'veil': 3, 'quebec': 3, 'protect': 3, 'prosecut': 3, 'although': 3, 'happynewyear': 3, 'prez': 3, 'district': 3, 'versac': 3, 'rich': 3, 'earli': 3, 'insid': 3, 'tlc': 3, 'cant': 3, 'psa': 3, 'inform': 3, 'biblic': 3, 'negro': 3, 'detroit': 3, 'explan': 3, 'paul': 3, 'beloy': 3, 'vari': 3, 'belgian': 3, 'bullshit': 3, 'inclus': 3, 'resolut': 3, 'abe': 3, 'mere': 3, 'ultra': 3, 'fine': 3, 'moral': 3, 'platform': 3, 'voic': 3, 'riyadh': 3, 'deadliest': 3, 'graduat': 3, 'enjoy': 3, 'popular': 3, 'capit': 3, 'techjunkiejh': 3, 'cheer': 3, 'confess': 3, 'kaepernick': 3, 'rather': 3, 'relationship': 3, 'afraid': 3, 'soro': 3, 'cud': 3, 'wud': 3, 'elitist': 3, 'richardspenc': 3, 'view': 3, 'servant': 3, 'drive': 3, 'multipl': 3, 'thug': 3, 'jail': 3, 'mostli': 3, 'whore': 3, 'remain': 3, 'bewar': 3, 'appeal': 3, 'mention': 3, 'grab': 3, 'remind': 3, 'douchebag': 3, 'argument': 3, 'shoot': 3, 'crash': 3, 'march': 3, 'cut': 3, 'rate': 3, 'januari': 3, 'control': 3, 'anymor': 3, 'taxpay': 3, 'enabl': 3, 'late': 3, 'gun': 3, 'complet': 3, 'area': 3, 'complain': 3, 'boss': 3, 'rais': 3, 'caught': 3, 'trial': 3, 'produc': 3, 'dispos': 3, 'obstruct': 3, 'discov': 3, 'mass': 3, 'nicola': 3, 'bread': 3, 'dig': 3, 'stuff': 3, 'subtl': 3, 'slander': 3, 'apolog': 3, 'brief': 3, 'ban': 3, 'equat': 3, 'whitenationalist': 3, 'fucktrump': 3, 'shock': 3, 'host': 3, 'shown': 3, 'thread': 3, 'safe': 3, 'precis': 3, 'arm': 3, 'toni': 3, 'christmasev': 3, 'trc': 3, 'choos': 3, 'ambassador': 3, 'workplac': 3, 'fals': 3, 'asham': 3, 'continu': 3, 'upset': 3, 'proof': 3, 'ration': 3, 'custom': 3, 'unless': 3, 'went': 3, 'head': 3, 'hea': 3, 'attorney': 3, 'odd': 3, 'nye': 3, 'wing': 3, 'evolut': 3, 'among': 3, 'nasti': 3, 'emoji': 3, 'fun': 3, 'bewitch': 3, 'xma': 3, 'ep': 3, 'bollywood': 3, 'song': 3, 'sure': 3, 'upon': 3, 'cool': 3, 'empow': 3, 'ohio': 3, 'georg': 3, 'represent': 3, 'msm': 3, 'patriotwatch': 3, 'cult': 3, 'dr': 3, 'two': 3, 'bot': 3, 'attempt': 3, 'alllivesmatt': 3, 'defeat': 3, 'ale': 3, 'neglig': 3, 'met': 3, 'trumpworld': 3, 'fragil': 3, 'stage': 3, 'refer': 3, 'myanmar': 3, 'pastor': 3, 'goodby': 3, 'engag': 3, 'worker': 3, 'beat': 3, 'note': 3, 'endur': 3, 'convict': 3, 'fred': 3, 'korematsu': 3, 'quest': 3, 'document': 3, 'actual': 3, 'role': 3, 'hello': 3, 'classifi': 3, 'pop': 3, 'euref': 3, 'bar': 3, 'haha': 3, 'applic': 3, 'includ': 3, 'amwrit': 3, 'raci': 3, 'pure': 3, 'femal': 3, 'microaggress': 3, 'bitter': 3, 'sociopath': 3, 'lunat': 3, 'threat': 3, 'garbag': 3, 'britain': 3, 'gener': 3, 'beauti': 3, 'ufc': 3, 'neo': 3, 'southern': 3, 'reagan': 3, 'convinc': 3, 'coward': 3, 'enlighten': 3, 'child': 3, 'rac': 3, 'station': 3, 'develop': 3, 'rondarousey': 3, 'oop': 3, 'blatantli': 3, 'choic': 3, 'embarrass': 3, 'gweh': 3, 'longer': 3, 'wypipo': 3, 'cowboy': 3, 'shop': 3, 'gaslight': 3, 'la': 3, 'taiji': 3, 'montana': 3, 'jesu': 3, 'global': 3, 'saleh': 3, 'neighborhood': 3, 'journo': 3, 'forgot': 3, 'jimmi': 3, 'due': 3, 'segreg': 3, 'acab': 3, 'narcissist': 3, 'preach': 3, 'seat': 3, 'classism': 3, 'period': 3, 'selfi': 3, 'messi': 3, 'mecca': 3, 'sorri': 3, 'version': 3, 'tori': 3, 'airpo': 3, 'riddanc': 3, 'lame': 3, 'anybodi': 3, 'scrub': 3, 'shiless': 3, 'stillwithh': 3, 'heel': 3, 'rhetor': 3, 'uniti': 3, 'condon': 3, 'chosen': 3, 'steal': 3, 'ego': 3, 'latina': 3, 'massiv': 3, 'hero': 3, 'bash': 3, 'futur': 3, 'netanyahu': 3, 'donat': 3, 'marri': 3, 'awesom': 3, 'socialjustic': 3, 'forev': 3, 'attitud': 3, 'russian': 3, 'inter': 3, 'super': 3, 'doublestandard': 3, 'backlash': 3, 'highli': 3, 'contest': 3, 'intellectu': 3, 'pueorico': 3, 'inflam': 3, 'ty': 3, 'womenvot': 3, 'bank': 3, 'amjoy': 3, 'unmask': 3, 'stopp': 3, 'virginia': 3, 'argu': 3, 'enter': 3, 'salad': 3, 'divid': 3, 'hypocrisi': 3, 'imagin': 3, 'youtub': 3, 'kick': 3, 'mormon': 3, 'pizza': 3, 'japanes': 3, 'brutal': 3, 'islamophob': 3, 'pm': 3, 'coverag': 3, 'recent': 3, 'health': 3, 'mexico': 3, 'systemicrac': 3, 'ground': 3, 'perfect': 3, 'natur': 3, 'conman': 3, 'irish': 3, 'cretin': 3, 'headlin': 3, 'boycottdelta': 3, 'neonazi': 3, 'cracker': 3, 'innoc': 3, 'valuechain': 3, 'scumbag': 3, 'zionist': 3, 'shitti': 3, 'mmusimaiman': 3, 'month': 3, 'born': 3, 'husband': 3, 'repres': 3, 'billion': 3, 'silent': 3, 'sinc': 3, 'wake': 3, 'thousand': 3, 'imperi': 3, 'mummersparad': 3, 'btw': 3, 'bhakt': 3, 'info': 3, 'page': 3, 'michigan': 2, 'middl': 2, 'med': 2, 'insecur': 2, 'lure': 2, 'mock': 2, 'bet': 2, 'probabl': 2, 'golf': 2, 'door': 2, 'deni': 2, 'ran': 2, 'popul': 2, 'ferguson': 2, 'villag': 2, 'hocoschool': 2, 'columbiamd': 2, 'hocomd': 2, 'fyi': 2, 'kitchen': 2, 'promis': 2, 'nonsens': 2, 'boo': 2, 'inspir': 2, 'ushistori': 2, 'consequ': 2, 'asia': 2, 'prais': 2, 'rnc': 2, 'rip': 2, 'fox': 2, 'echo': 2, 'dumptrump': 2, 'grew': 2, 'blogpost': 2, 'congress': 2, 'everytim': 2, 'soccer': 2, 'joie': 2, 'fri': 2, 'aand': 2, 'bonus': 2, 'endthen': 2, 'topic': 2, 'assumpt': 2, 'california': 2, 'degrad': 2, 'justifi': 2, 'psycholog': 2, 'tuckercarlson': 2, 'oppressor': 2, 'inhuman': 2, 'ivankatrump': 2, 'seek': 2, 'imag': 2, 'incess': 2, 'thin': 2, 'intent': 2, 'barackobama': 2, 'impo': 2, 'thiev': 2, 'qualifi': 2, 'decolon': 2, 'poopin': 2, 'weapon': 2, 'yell': 2, 'birdsofafeath': 2, 'wont': 2, 'yur': 2, 'snob': 2, 'tpc': 2, 'ultim': 2, 'seri': 2, 'side': 2, 'return': 2, 'overlap': 2, 'chicago': 2, 'spin': 2, 'altern': 2, 'commonsens': 2, 'tra': 2, 'guardian': 2, 'nytim': 2, 'afp': 2, 'rsf': 2, 'yehtut': 2, 'malia': 2, 'shake': 2, 'blunt': 2, 'popularvot': 2, 'ca': 2, 'germani': 2, 'colour': 2, 'lede': 2, 'spit': 2, 'medit': 2, 'foxnew': 2, 'censorship': 2, 'crusad': 2, 'west': 2, 'sequel': 2, 'unpack': 2, 'blackwomen': 2, 'asianmen': 2, 'datingapp': 2, 'canuck': 2, 'oiler': 2, 'solv': 2, 'safeti': 2, 'blackonblack': 2, 'dogwhistl': 2, 'hamzayusuf': 2, 'antisemt': 2, 'cake': 2, 'mf': 2, 'trophi': 2, 'arriv': 2, 'salut': 2, 'sharp': 2, 'suit': 2, 'path': 2, 'forward': 2, 'saudi': 2, 'inferior': 2, 'everybodi': 2, 'libcrib': 2, 'uniteblu': 2, 'ring': 2, 'justicereform': 2, 'socialist': 2, 'snowbal': 2, 'impoanc': 2, 'org': 2, 'yea': 2, 'flyer': 2, 'titti': 2, 'rel': 2, 'economicapahi': 2, 'pedophil': 2, 'kenya': 2, 'nigeria': 2, 'eras': 2, 'hour': 2, 'launch': 2, 'letstalkabout': 2, 'climatechang': 2, 'sight': 2, 'un': 2, 'rat': 2, 'awar': 2, 'teacher': 2, 'goad': 2, 'inmat': 2, 'restrain': 2, 'cc': 2, 'icymi': 2, 'anal': 2, 'blue': 2, 'tube': 2, 'monger': 2, 'verbalassault': 2, 'condescens': 2, 'saw': 2, 'belong': 2, 'chelski': 2, 'ralli': 2, 'demand': 2, 'pc': 2, 'encount': 2, 'mcconnel': 2, 'sturgeon': 2, 'entitl': 2, 'plaster': 2, 'bacon': 2, 'lettuc': 2, 'mater': 2, 'slice': 2, 'turmoil': 2, 'chaplin': 2, 'aidingenemi': 2, 'coverup': 2, 'benghazi': 2, 'extoion': 2, 'clear': 2, 'key': 2, 'bulid': 2, 'mine': 2, 'patienc': 2, 'jo': 2, 'alcohol': 2, 'legend': 2, 'english': 2, 'risk': 2, 'spew': 2, 'womenmalayalam': 2, 'dread': 2, 'ceain': 2, 'exclus': 2, 'geograph': 2, 'boundari': 2, 'wouldnt': 2, 'talent': 2, 'physic': 2, 'lgbti': 2, 'poc': 2, 'rife': 2, 'drink': 2, 'spice': 2, 'coffe': 2, 'test': 2, 'di': 2, 'unstopp': 2, 'indignen': 2, 'materi': 2, 'hu': 2, 'everywher': 2, 'thegreenpalmcottag': 2, 'plettenburgbay': 2, 'westerncap': 2, 'thyini': 2, 'thiza': 2, 'ahead': 2, 'annoy': 2, 'perpetu': 2, 'palladino': 2, 'water': 2, 'adult': 2, 'interview': 2, 'macdonald': 2, 'employe': 2, 'dec': 2, 'et': 2, 'grp': 2, 'breed': 2, 'overcom': 2, 'mayor': 2, 'loos': 2, 'compass': 2, 'despis': 2, 'suspect': 2, 'henrico': 2, 'cruel': 2, 'makeamericagreatagain': 2, 'everyday': 2, 'philandocastil': 2, 'seriou': 2, 'de': 2, 'indianapoli': 2, 'colt': 2, 'cheerlead': 2, 'hug': 2, 'empir': 2, 'ebay': 2, 'whitepow': 2, 'blood': 2, 'rewrit': 2, 'till': 2, 'uncl': 2, 'bye': 2, 'rapechucktodd': 2, 'drug': 2, 'store': 2, 'sit': 2, 'trampl': 2, 'manspread': 2, 'okay': 2, 'facil': 2, 'union': 2, 'overwhelmingli': 2, 'sum': 2, 'syndrom': 2, 'mustread': 2, 'jefferi': 2, 'beauregard': 2, 'foolin': 2, 'sheet': 2, 'saturda': 2, 'bind': 2, 'bailey': 2, 'potter': 2, 'waiter': 2, 'gb': 2, 'upf': 2, 'cultism': 2, 'springst': 2, 'scare': 2, 'arrog': 2, 'joy': 2, 'harder': 2, 'instruct': 2, 'slow': 2, 'humour': 2, 'narrow': 2, 'nick': 2, 'cannon': 2, 'factophobia': 2, 'culturalenrich': 2, 'bait': 2, 'childish': 2, 'climatecrim': 2, 'ecocid': 2, 'stood': 2, 'actor': 2, 'crap': 2, 'gover': 2, 'marxist': 2, 'propoganda': 2, 'cite': 2, 'grou': 2, 'pathet': 2, 'sadli': 2, 'cam': 2, 'zill': 2, 'kiss': 2, 'mysoginist': 2, 'graviti': 2, 'lock': 2, 'gate': 2, 'alexjon': 2, 'blackpeopl': 2, 'yiannopoulo': 2, 'held': 2, 'sell': 2, 'amandanun': 2, 'xxx': 2, 'fetish': 2, 'regress': 2, 'effo': 2, 'refut': 2, 'sweeti': 2, 'glad': 2, 'mistak': 2, 'tool': 2, 'kinda': 2, 'fell': 2, 'zuma': 2, 'malema': 2, 'jackal': 2, 'sam': 2, 'china': 2, 'cannot': 2, 'shallow': 2, 'nose': 2, 'disabl': 2, 'hv': 2, 'classic': 2, 'bastard': 2, 'huh': 2, 'crook': 2, 'express': 2, 'ie': 2, 'cancel': 2, 'bias': 2, 'kindled': 2, 'publish': 2, 'kindl': 2, 'rage': 2, 'chump': 2, 'raygun': 2, 'consid': 2, 'smell': 2, 'rock': 2, 'gov': 2, 'rambl': 2, 'aw': 2, 'slap': 2, 'bought': 2, 'taught': 2, 'exp': 2, 'whitewash': 2, 'ukrain': 2, 'repuls': 2, 'desir': 2, 'sicken': 2, 'east': 2, 'european': 2, 'morganfreeman': 2, 'nune': 2, 'champ': 2, 'rousey': 2, 'ccot': 2, 'touch': 2, 'former': 2, 'stloui': 2, 'stl': 2, 'ksa': 2, 'flood': 2, 'price': 2, 'wil': 2, 'blind': 2, 'demon': 2, 'larg': 2, 'chose': 2, 'attend': 2, 'indoctrin': 2, 'didnt': 2, 'philosoph': 2, 'cbc': 2, 'sh': 2, 'pt': 2, 'yesterday': 2, 'resourc': 2, 'inuit': 2, 'melt': 2, 'heed': 2, 'classi': 2, 'neck': 2, 'refus': 2, 'celtic': 2, 'charact': 2, 'divis': 2, 'scari': 2, 'blond': 2, 'cuomo': 2, 'yorker': 2, 'night': 2, 'kwanzaa': 2, 'ageism': 2, 'wage': 2, 'litter': 2, 'socialmedia': 2, 'slaver': 2, 'ivanka': 2, 'stalk': 2, 'suicid': 2, 'nsfw': 2, 'barack': 2, 'ld': 2, 'eh': 2, 'suggest': 2, 'whitefish': 2, 'voterid': 2, 'per': 2, 'folk': 2, 'derek': 2, 'select': 2, 'kurd': 2, 'mouthpiec': 2, 'airlin': 2, 'warn': 2, 'repugn': 2, 'journalist': 2, 'along': 2, 'cab': 2, 'islamaphobia': 2, 'treacher': 2, 'room': 2, 'reprehens': 2, 'salt': 2, 'lake': 2, 'reinforc': 2, 'offend': 2, 'ironi': 2, 'merrychristma': 2, 'caer': 2, 'waitingf': 2, 'wildest': 2, 'cutest': 2, 'takuyakimura': 2, 'highfashion': 2, 'appropri': 2, 'sundown': 2, 'rout': 2, 'guid': 2, 'disney': 2, 'austin': 2, 'ofc': 2, 'cameron': 2, 'cameronstaff': 2, 'camstaff': 2, 'officerstaff': 2, 'cowardcop': 2, 'georgia': 2, 'euro': 2, 'car': 2, 'quick': 2, 'outlet': 2, 'embrac': 2, 'repoer': 2, 'imperialsm': 2, 'mill': 2, 'civilian': 2, 'rare': 2, 'thou': 2, 'associ': 2, 'bunch': 2, 'weirdo': 2, 'doubl': 2, 'mental': 2, 'label': 2, 'jerusalem': 2, 'taharrush': 2, 'taharrushgamea': 2, 'rapeuge': 2, 'clip': 2, 'prop': 2, 'killer': 2, 'ukip': 2, 'shelvey': 2, 'connect': 2, 'powerhungrytraitor': 2, 'hereticfound': 2, 'tax': 2, 'paid': 2, 'push': 2, 'bag': 2, 'hillbot': 2, 'patriot': 2, 'fe': 2, 'iran': 2, 'tyranni': 2, 'hit': 2, 'proven': 2, 'basket': 2, 'wors': 2, 'centr': 2, 'jerk': 2, 'cross': 2, 'drunk': 2, 'four': 2, 'escap': 2, 'intellig': 2, 'patriarchi': 2, 'fp': 2, 'adl': 2, 'usher': 2, 'model': 2, 'econom': 2, 'realitycheck': 2, 'invas': 2, 'uyanz': 2, 'laid': 2, 'teapay': 2, 'menorah': 2, 'morn': 2, 'amerikkka': 2, 'titl': 2, 'crack': 2, 'colinpowel': 2, 'condoleezzaric': 2, 'secretaryofst': 2, 'ha': 2, 'kumbaya': 2, 'motiv': 2, 'spoke': 2, 'ceas': 2, 'unfair': 2, 'redact': 2, 'cat': 2, 'rep': 2, 'yo': 2, 'millenni': 2, 'step': 2, 'publicli': 2, 'bs': 2, 'ref': 2, 'blackvot': 2, 'hispanicvot': 2, 'jame': 2, 'david': 2, 'opkkk': 2, 'optrump': 2, 'illegitim': 2, 'oligarch': 2, 'plutocrat': 2, 'shill': 2, 'amend': 2, 'giant': 2, 'sedit': 2, 'flap': 2, 'italian': 2, 'plethora': 2, 'fashio': 2, 'feloni': 2, 'sweep': 2, 'struggl': 2, 'losangel': 2, 'involv': 2, 'shyan': 2, 'selah': 2, 'cafenoirproject': 2, 'bridg': 2, 'chanc': 2, 'yup': 2, 'concur': 2, 'nearli': 2, 'geniu': 2, 'orlando': 2, 'butt': 2, 'commi': 2, 'lanasprayberri': 2, 'author': 2, 'fellow': 2, 'brag': 2, 'jarrett': 2, 'inflict': 2, 'mustfal': 2, 'sale': 2, 'assist': 2, 'king': 2, 'priyankachopra': 2, 'subject': 2, 'quantico': 2, 'blast': 2, 'daughter': 2, 'queue': 2, 'mi': 2, 'accord': 2, 'laugh': 2, 'tinfoilhat': 2, 'axe': 2, 'defund': 2, 'aboion': 2, 'oust': 2, 'rise': 2, 'orang': 2, 'figur': 2, 'raid': 2, 'western': 2, 'honestli': 2, 'activ': 2, 'interraci': 2, 'terri': 2, 'embolden': 2, 'edinburgh': 2, 'trust': 2, 'collect': 2, 'screenshot': 2, 'snap': 2, 'noh': 2, 'mdcolleg': 2, 'spo': 2, 'stream': 2, 'amrica': 2, 'invit': 2, 'sept': 2, 'sourcen': 2, 'wed': 2, 'thependulum': 2, 'newshow': 2, 'sexual': 2, 'homicid': 2, 'rose': 2, 'illegalgun': 2, 'canadian': 2, 'slant': 2, 'appear': 2, 'immatur': 2, 'ouch': 2, 'woow': 2, 'mansplain': 2, 'repeat': 2, 'took': 2, 'sens': 2, 'prankster': 2, 'disavow': 2, 'befriend': 2, 'barrackobama': 2, 'deliber': 2, 'coroni': 2, 'inquest': 2, 'hamid': 2, 'regular': 2, 'rother': 2, 'breath': 2, 'complementarian': 2, 'chairman': 2, 'presidentelect': 2, 'scrutin': 2, 'savor': 2, 'israelisettl': 2, 'illegalisraelisettl': 2, 'asshat': 2, 'pull': 2, 'sob': 2, 'mcdonald': 2, 'betray': 2, 'minion': 2, 'scapel': 2, 'endless': 2, 'contempt': 2, 'clariti': 2, 'clean': 2, 'isnt': 2, 'hashtag': 2, 'dontbuythesun': 2, 'rag': 2, 'southsudan': 2, 'sarcasm': 2, 'loss': 2, 'twice': 2, 'princ': 2, 'draw': 2, 'colleagu': 2, 'billionair': 2, 'cowork': 2, 'impact': 2, 'motherfuck': 2, 'impeachtrump': 2, 'break': 2, 'exit': 2, 'smile': 2, 'zero': 2, 'discrep': 2, 'josephjett': 2, 'behavior': 2, 'oppoun': 2, 'traitorump': 2, 'retro': 2, 'christmasadv': 2, 'tupperwear': 2, 'empathi': 2, 'mar': 2, 'entri': 2, 'modern': 2, 'govt': 2, 'soon': 2, 'misogni': 2, 'crude': 2, 'compet': 2, 'anyway': 2, 'repli': 2, 'janeelliot': 2, 'announc': 2, 'airingofthegriev': 2, 'lectur': 2, 'bonhoeff': 2, 'sir': 2, 'mo': 2, 'bama': 2, 'ncaa': 2, 'anonym': 2, 'manu': 2, 'thailand': 2, 'unappet': 2, 'scam': 2, 'throw': 2, 'shackl': 2, 'foodi': 2, 'bernank': 2, 'bail': 2, 'dump': 2, 'largest': 2, 'top': 2, 'facepalm': 2, 'resent': 2, 'product': 2, 'cent': 2, 'affirmativeact': 2, 'antiamerican': 2, 'blackfac': 2, 'prostitut': 2, 'behav': 2, 'badli': 2, 'tip': 2, 'liz': 2, 'treaci': 2, 'ex': 2, 'councillor': 2, 'hackett': 2, 'storytel': 2, 'staup': 2, 'eff': 2, 'stem': 2, 'pamelaramseytaylor': 2, 'teenag': 2, 'bd': 2, 'measur': 2, 'analysi': 2, 'gandhi': 2, 'ador': 2, 'dream': 2, 'failur': 2, 'exploit': 2, 'three': 2, 'weasel': 2, 'burn': 2, 'bed': 2, 'trumptrain': 2, 'attorneygener': 2, 'racewar': 2, 'chao': 2, 'weaponri': 2, 'incid': 2, 'math': 2, 'overus': 2, 'fast': 2, 'sunderland': 2, 'ident': 1, 'linguist': 1, 'raciolinguist': 1, 'smaller': 1, 'barri': 1, 'knick': 1, 'finger': 1, 'jewishsupremacist': 1, 'vot': 1, 'governor': 1, 'solut': 1, 'repetit': 1, 'conflict': 1, 'pol': 1, 'cring': 1, 'confin': 1, 'void': 1, 'cheap': 1, 'topoli': 1, 'critiqu': 1, 'codeword': 1, 'consent': 1, 'decre': 1, 'tamirric': 1, 'matur': 1, 'housewif': 1, 'slogan': 1, 'prowar': 1, 'wwwsmallgirlsexcom': 1, 'obsidian': 1, 'latesnew': 1, 'overwhelm': 1, 'sentiment': 1, 'ideal': 1, 'carolyn': 1, 'cooper': 1, 'fakenewsal': 1, 'americad': 1, 'curs': 1, 'khan': 1, 'g': 1, 'oveurn': 1, 'appli': 1, 'starspangledbann': 1, 'aryan': 1, 'eod': 1, 'surrog': 1, 'endhat': 1, 'affect': 1, 'jake': 1, 'drown': 1, 'oft': 1, 'tendenc': 1, 'rushlimbaugh': 1, 'cspan': 1, 'pittsburgh': 1, 'seller': 1, 'gwot': 1, 'ins': 1, 'hoe': 1, 'volatil': 1, 'counter': 1, 'passion': 1, 'plane': 1, 'fn': 1, 'sympathis': 1, 'describ': 1, 'lbgt': 1, 'berlin': 1, 'investig': 1, 'returnmyvinyl': 1, 'maryland': 1, 'chrismukkah': 1, 'keyboard': 1, 'coopt': 1, 'reg': 1, 'autocorrect': 1, 'keepyoureyesonthepr': 1, 'mlk': 1, 'owe': 1, 'africanamerican': 1, 'repar': 1, 'curriculum': 1, 'process': 1, 'unsatisfi': 1, 'whiteisi': 1, 'nuclear': 1, 'ellen': 1, 'kimburrel': 1, 'homo': 1, 'shuckin': 1, 'andjivin': 1, 'loath': 1, 'retail': 1, 'pissedoffitalian': 1, 'altogeth': 1, 'satisfi': 1, 'standard': 1, 'stolen': 1, 'coz': 1, 'wotch': 1, 'hilari': 1, 'watc': 1, 'felt': 1, 'lawrenc': 1, 'fishburn': 1, 'magic': 1, 'fed': 1, 'provid': 1, 'inadequ': 1, 'mentalhealth': 1, 'firstnat': 1, 'intern': 1, 'memo': 1, 'thirdworldcanada': 1, 'inn': 1, 'plain': 1, 'disingenu': 1, 'deviant': 1, 'reproductiveright': 1, 'bihcontrol': 1, 'domesticviol': 1, 'puppet': 1, 'rightist': 1, 'confer': 1, 'secretli': 1, 'comparison': 1, 'homegrown': 1, 'righti': 1, 'academia': 1, 'nuanc': 1, 'dvbmultimediagroup': 1, 'superhero': 1, 'hotlin': 1, 'suffrag': 1, 'electoralcolleg': 1, 'mfer': 1, 'lgbtq': 1, 'exclud': 1, 'marginalis': 1, 'christ': 1, 'argentin': 1, 'eg': 1, 'freethenippl': 1, 'heck': 1, 'tit': 1, 'grandmoth': 1, 'grandson': 1, 'harbaugh': 1, 'bikini': 1, 'deplorabal': 1, 'whitesheet': 1, 'inbr': 1, 'warmong': 1, 'worlddang': 1, 'nationalanthem': 1, 'stock': 1, 'anchor': 1, 'laurenduca': 1, 'stick': 1, 'thigh': 1, 'havin': 1, 'propey': 1, 'logo': 1, 'bake': 1, 'dancer': 1, 'duh': 1, 'womenwednesday': 1, 'womensmarch': 1, 'predat': 1, 'sameshitnewyear': 1, 'terrorattack': 1, 'fundament': 1, 'written': 1, 'profess': 1, 'leg': 1, 'swing': 1, 'nyt': 1, 'aloha': 1, 'warsforoil': 1, 'theresamay': 1, 'leaver': 1, 'womenonli': 1, 'forher': 1, 'womenissu': 1, 'defens': 1, 'princip': 1, 'maddow': 1, 'blackman': 1, 'chepstow': 1, 'gwent': 1, 'wale': 1, 'cymru': 1, 'begun': 1, 'familycircu': 1, 'chri': 1, 'april': 1, 'founder': 1, 'clock': 1, 'tick': 1, 'childfre': 1, 'satanist': 1, 'substant': 1, 'messeng': 1, 'corruptgop': 1, 'carlpalladino': 1, 'politicalmillenni': 1, 'tune': 1, 'burka': 1, 'implic': 1, 'uncov': 1, 'notmypresidnet': 1, 'nationala': 1, 'judea': 1, 'samaria': 1, 'blacklistin': 1, 'notfunni': 1, 'legislatur': 1, 'exemplifi': 1, 'swamp': 1, 'drain': 1, 'islamicterrorist': 1, 'alexpasc': 1, 'daddi': 1, 'easteuropean': 1, 'falsenarr': 1, 'falseequaval': 1, 'episod': 1, 'igmilitia': 1, 'pewpewlif': 1, 'deadli': 1, 'medicin': 1, 'vocabulari': 1, 'washout': 1, 'pussygrabberinchief': 1, 'idiocraci': 1, 'junior': 1, 'gtfoh': 1, 'itz': 1, 'crackalog': 1, 'malign': 1, 'loudest': 1, 'cash': 1, 'checkcash': 1, 'blackmen': 1, 'malvern': 1, 'arkansa': 1, 'nigelfarag': 1, 'catch': 1, 'herford': 1, 'buri': 1, 'pastur': 1, 'electr': 1, 'sulfur': 1, 'stockpil': 1, 'sisterinlaw': 1, 'frustrat': 1, 'lmao': 1, 'diisgust': 1, 'perk': 1, 'passeng': 1, 'crew': 1, 'flt': 1, 'arnt': 1, 'surround': 1, 'willoughbi': 1, 'innat': 1, 'revoltingli': 1, 'tw': 1, 'opi': 1, 'immedi': 1, 'credibl': 1, 'col': 1, 'sdob': 1, 'goon': 1, 'stronger': 1, 'wiunion': 1, 'hag': 1, 'fakequ': 1, 'er': 1, 'racialequ': 1, 'count': 1, 'email': 1, 'compar': 1, 'juan': 1, 'kellyann': 1, 'hook': 1, 'healand': 1, 'deceit': 1, 'crybulli': 1, 'honesti': 1, 'editor': 1, 'jind': 1, 'counti': 1, 'digniti': 1, 'chauvinist': 1, 'lostpopularvot': 1, 'americadoesntwanty': 1, 'bistro': 1, 'hid': 1, 'cramp': 1, 'tabl': 1, 'scurvi': 1, 'winter': 1, 'cute': 1, 'dt': 1, 'codifi': 1, 'spain': 1, 'cmon': 1, 'ps': 1, 'cuss': 1, 'fb': 1, 'attir': 1, 'yep': 1, 'lass': 1, 'reduc': 1, 'asset': 1, 'douchewaffl': 1, 'unaccept': 1, 'luicalibr': 1, 'fiend': 1, 'trend': 1, 'hawk': 1, 'arabian': 1, 'berberian': 1, 'rainbow': 1, 'fulli': 1, 'bomb': 1, 'error': 1, 'inconsequen': 1, 'unjust': 1, 'mispronounc': 1, 'terrac': 1, 'wen': 1, 'heroin': 1, 'kajal': 1, 'tamanna': 1, 'ami': 1, 'spend': 1, 'hepburn': 1, 'unicef': 1, 'punk': 1, 'pressur': 1, 'unequ': 1, 'subvers': 1, 'lackey': 1, 'mate': 1, 'betwn': 1, 'hyena': 1, 'slug': 1, 'hye': 1, 'guarani': 1, 'aquif': 1, 'peruvian': 1, 'nd': 1, 'greek': 1, 'ana': 1, 'manipur': 1, 'ndtv': 1, 'timenow': 1, 'samachar': 1, 'zeenew': 1, 'dordarshan': 1, 'hawaii': 1, 'jlaw': 1, 'ik': 1, 'swear': 1, 'fakenewsmedia': 1, 'reginald': 1, 'mcfadden': 1, 'returningcitizen': 1, 'commut': 1, 'pegida': 1, 'intersection': 1, 'j': 1, 'penney': 1, 'headlock': 1, 'havent': 1, 'corporateb': 1, 'boycottjcpenney': 1, 'fucku': 1, 'loudli': 1, 'adamitv': 1, 'tiesto': 1, 'whiteamerica': 1, 'realis': 1, 'tragic': 1, 'prompt': 1, 'slash': 1, 'ow': 1, 'spiritu': 1, 'road': 1, 'freeway': 1, 'knit': 1, 'clio': 1, 'twitt': 1, 'lehman': 1, 'belli': 1, 'septemb': 1, 'hvg': 1, 'fibromyalgia': 1, 'survivor': 1, 'childrap': 1, 'complaint': 1, 'talkradio': 1, 'admin': 1, 'economi': 1, 'hype': 1, 'drinkdark': 1, 'milk': 1, 'stigmat': 1, 'freak': 1, 'rotten': 1, 'whiteslav': 1, 'dom': 1, 'nica': 1, 'whiteslaveri': 1, 'venezuela': 1, 'merri': 1, 'rupemurdoch': 1, 'employ': 1, 'whoever': 1, 'master': 1, 'inexist': 1, 'encourag': 1, 'depoat': 1, 'french': 1, 'republ': 1, 'boil': 1, 'forbidden': 1, 'restaur': 1, 'dzang': 1, 'capetown': 1, 'empowerd': 1, 'fowoh': 1, 'caturday': 1, 'countdown': 1, 'creepi': 1, 'pot': 1, 'local': 1, 'manchest': 1, 'hoodi': 1, 'player': 1, 'iqg': 1, 'woke': 1, 'ifyourenotwhiteyourenotracist': 1, 'repug': 1, 'doublestan': 1, 'bold': 1, 'bitchesbelik': 1, 'gift': 1, 'littleengland': 1, 'sovereignti': 1, 'trumpproofamerica': 1, 'wahhhh': 1, 'arent': 1, 'ovr': 1, 'idol': 1, 'uspoli': 1, 'skate': 1, 'plate': 1, 'aswel': 1, 'antiegalitarian': 1, 'narciss': 1, 'atk': 1, 'phrase': 1, 'sandnigg': 1, 'hm': 1, 'uskkk': 1, 'crazybengiefbp': 1, 'wog': 1, 'nut': 1, 'fantast': 1, 'buzzfe': 1, 'manhat': 1, 'disparo': 1, 'trompa': 1, 'trumpa': 1, 'migitorio': 1, 'entretei': 1, 'straya': 1, 'dutch': 1, 'pattismith': 1, 'reich': 1, 'iwantto': 1, 'sjwlogic': 1, 'scatter': 1, 'bless': 1, 'shine': 1, 'graciou': 1, 'kindli': 1, 'deaf': 1, 'rethinkdisciplin': 1, 'audism': 1, 'stpp': 1, 'massincarcer': 1, 'deafinprison': 1, 'decriminaliz': 1, 'train': 1, 'whine': 1, 'unfit': 1, 'emma': 1, 'undermin': 1, 'racebait': 1, 'jacobmarley': 1, 'epic': 1, 'unbornlivesmatt': 1, 'peotu': 1, 'will': 1, 'oppon': 1, 'carolin': 1, 'congrat': 1, 'tucker': 1, 'exactli': 1, 'paisanhack': 1, 'drop': 1, 'crapsac': 1, 'matthew': 1, 'immanuel': 1, 'whic': 1, 'complic': 1, 'pe': 1, 'blaze': 1, 'saddl': 1, 'obviou': 1, 'uneduc': 1, 'devil': 1, 'spokesperson': 1, 'deafen': 1, 'comprehend': 1, 'tonight': 1, 'proudli': 1, 'cambersand': 1, 'lifeguard': 1, 'ouuh': 1, 'bustymilf': 1, 'dinner': 1, 'fallaci': 1, 'infantil': 1, 'whether': 1, 'proo': 1, 'straight': 1, 'oprah': 1, 'simpl': 1, 'properli': 1, 'stab': 1, 'standwithisrael': 1, 'mizzou': 1, 'frat': 1, 'rul': 1, 'shitfest': 1, 'trumpunivers': 1, 'maiman': 1, 'liter': 1, 'shou': 1, 'belief': 1, 'superior': 1, 'douchelord': 1, 'dickhol': 1, 'yousuck': 1, 'pamgelleheracist': 1, 'mmiw': 1, 'mmiwg': 1, 'nig': 1, 'subhuman': 1, 'affili': 1, 'aryanbrotherhood': 1, 'whiterac': 1, 'whiteperson': 1, 'bp': 1, 'somehow': 1, 'petou': 1, 'crookedtrump': 1, 'notamericaschoic': 1, 'theistic': 1, 'juic': 1, 'fightlikeagirl': 1, 'simon': 1, 'schuster': 1, 'huffington': 1, 'woodrowwilson': 1, 'privat': 1, 'screen': 1, 'griffith': 1, 'bih': 1, 'stuakenyon': 1, 'eevalancast': 1, 'wn': 1, 'filth': 1, 'net': 1, 'bloggersblast': 1, 'yoya': 1, 'deme': 1, 'nm': 1, 'beer': 1, 'sold': 1, 'liveleap': 1, 'bonu': 1, 'scar': 1, 'waim': 1, 'camp': 1, 'brownshi': 1, 'pivo': 1, 'lgbtfamili': 1, 'rector': 1, 'aptli': 1, 'whitesboro': 1, 'ndn': 1, 'whiteland': 1, 'mascot': 1, 'striker': 1, 'leagu': 1, 'disallowd': 1, 'munmid': 1, 'malayale': 1, 'picturebangladeshi': 1, 'higher': 1, 'score': 1, 'colleg': 1, 'ebon': 1, 'huge': 1, 'lan': 1, 'harmless': 1, 'objectif': 1, 'sexualharass': 1, 'laborviol': 1, 'evan': 1, 'cheater': 1, 'underfir': 1, 'oldwoman': 1, 'manmad': 1, 'sarcast': 1, 'paki': 1, 'jeremyjoseph': 1, 'offenc': 1, 'trumpi': 1, 'sandyhook': 1, 'tear': 1, 'senad': 1, 'lulic': 1, 'lazio': 1, 'displac': 1, 'guarante': 1, 'smaimmigr': 1, 'zeroattack': 1, 'istanbul': 1, 'religionofpeac': 1, 'reliabl': 1, 'economicsanct': 1, 'cuba': 1, 'roughwat': 1, 'trade': 1, 'fresh': 1, 'npr': 1, 'supermistict': 1, 'poke': 1, 'sme': 1, 'burninhel': 1, 'sooo': 1, 'directli': 1, 'tyrant': 1, 'mic': 1, 'roughli': 1, 'gang': 1, 'caoon': 1, 'womensrighttochoos': 1, 'misandri': 1, 'margin': 1, 'wisconsin': 1, 'madison': 1, 'pelosi': 1, 'bookpublish': 1, 'microsoft': 1, 'twitterbot': 1, 'ai': 1, 'paint': 1, 'socialmooc': 1, 'feliz': 1, 'caoonish': 1, 'rendit': 1, 'snowpeopl': 1, 'lauren': 1, 'duca': 1, 'vanilla': 1, 'tenac': 1, 'kettl': 1, 'soul': 1, 'fled': 1, 'fugli': 1, 'compensatori': 1, 'code': 1, 'iswar': 1, 'presidentpussygrabb': 1, 'tinyhand': 1, 'putinpuppet': 1, 'disto': 1, 'hillbilli': 1, 'accur': 1, 'poray': 1, 'lapdog': 1, 'historian': 1, 'volodymyrviatrovych': 1, 'catcal': 1, 'manhattan': 1, 'krakow': 1, 'sewag': 1, 'hillarylost': 1, 'wise': 1, 'denzelwashington': 1, 'willsmith': 1, 'richi': 1, 'idioci': 1, 'bestof': 1, 'marriag': 1, 'cathedr': 1, 'sin': 1, 'komo': 1, 'amanda': 1, 'whop': 1, 'ronda': 1, 'payday': 1, 'correl': 1, 'height': 1, 'confeder': 1, 'loui': 1, 'muthafucka': 1, 'shameless': 1, 'mogag': 1, 'sabotag': 1, 'obamacar': 1, 'energi': 1, 'berniebro': 1, 'sander': 1, 'urg': 1, 'acct': 1, 'sm': 1, 'latent': 1, 'misconcept': 1, 'substanti': 1, 'larger': 1, 'gotten': 1, 'credit': 1, 'kanyewest': 1, 'racewarchess': 1, 'stun': 1, 'nomin': 1, 'muslimbrotherhood': 1, 'putinsbitch': 1, 'bolt': 1, 'disadvantag': 1, 'calmli': 1, 'abou': 1, 'fuckdonaldtrump': 1, 'thdocumentari': 1, 'baiter': 1, 'slaveown': 1, 'provinci': 1, 'inquiri': 1, 'cockwombl': 1, 'sophist': 1, 'sorelos': 1, 'triggerwarn': 1, 'yong': 1, 'boycot': 1, 'fathersday': 1, 'sistersofcolour': 1, 'motherhood': 1, 'unscript': 1, 'celebritydeath': 1, 'gf': 1, 'uber': 1, 'prefer': 1, 'data': 1, 'ux': 1, 'hardli': 1, 'vogu': 1, 'pornisforlos': 1, 'govegan': 1, 'pennyloaf': 1, 'notrump': 1, 'nokkk': 1, 'asssss': 1, 'lord': 1, 'starbuck': 1, 'whoa': 1, 'ww': 1, 'culpabl': 1, 'deepli': 1, 'entrench': 1, 'cept': 1, 'symbol': 1, 'accent': 1, 'bald': 1, 'adveis': 1, 'karma': 1, 'paranorm': 1, 'strawberri': 1, 'sweet': 1, 'nia': 1, 'carriefish': 1, 'pen': 1, 'faith': 1, 'whiteman': 1, 'bureau': 1, 'monetari': 1, 'declin': 1, 'ki': 1, 'catalunya': 1, 'djt': 1, 'islamicrad': 1, 'islamopho': 1, 'bilal': 1, 'adhan': 1, 'kaaba': 1, 'hamza': 1, 'yusuf': 1, 'temptat': 1, 'scapegoat': 1, 'drill': 1, 'fooh': 1, 'gon': 1, 'swap': 1, 'santaproject': 1, 'maci': 1, 'kerala': 1, 'jarodtaylor': 1, 'asslick': 1, 'brilliant': 1, 'shabbatshalom': 1, 'tacki': 1, 'theresista': 1, 'drsuess': 1, 'moonman': 1, 'edgi': 1, 'dankmem': 1, 'vine': 1, 'bush': 1, 'deploy': 1, 'interf': 1, 'eac': 1, 'handwritten': 1, 'indirect': 1, 'approv': 1, 'thekingsspeech': 1, 'oscar': 1, 'shitler': 1, 'ignorantli': 1, 'shout': 1, 'sheep': 1, 'bleat': 1, 'megaupload': 1, 'link': 1, 'emirat': 1, 'easi': 1, 'cave': 1, 'prick': 1, 'na': 1, 'whitefragil': 1, 'egregi': 1, 'grenad': 1, 'fatti': 1, 'warrior': 1, 'dnc': 1, 'megyn': 1, 'kelli': 1, 'fauxnew': 1, 'crowd': 1, 'basketbal': 1, 'leftistlunat': 1, 'updat': 1, 'sake': 1, 'object': 1, 'dull': 1, 'british': 1, 'everydayhero': 1, 'neverdelta': 1, 'isr': 1, 'apologist': 1, 'jetlag': 1, 'doubletre': 1, 'hilton': 1, 'london': 1, 'toy': 1, 'adv': 1, 'limit': 1, 'genderstereotyp': 1, 'netanyahuspeech': 1, 'stir': 1, 'rode': 1, 'integr': 1, 'ambit': 1, 'absenc': 1, 'courag': 1, 'craze': 1, 'fare': 1, 'remot': 1, 'justjustic': 1, 'restrict': 1, 'duti': 1, 'straght': 1, 'jacket': 1, 'pad': 1, 'unfittobeinpublicoffic': 1, 'unload': 1, 'washington': 1, 'editori': 1, 'tribun': 1, 'joseph': 1, 'boyden': 1, 'vi': 1, 'supermariorun': 1, 'firstworldproblem': 1, 'strident': 1, 'ordin': 1, 'womensordin': 1, 'democr': 1, 'vet': 1, 'inher': 1, 'qatar': 1, 'dept': 1, 'breitba': 1, 'pound': 1, 'qualif': 1, 'bozzoli': 1, 'highereduc': 1, 'quietli': 1, 'creatur': 1, 'bookreview': 1, 'lovecraft': 1, 'horror': 1, 'mattruff': 1, 'scrap': 1, 'cabl': 1, 'empress': 1, 'regnant': 1, 'distant': 1, 'prospect': 1, 'ark': 1, 'graffiti': 1, 'errand': 1, 'hoodiesup': 1, 'trough': 1, 'piggi': 1, 'conservat': 1, 'demagogueri': 1, 'transit': 1, 'vaniti': 1, 'sticker': 1, 'stopsex': 1, 'womensright': 1, 'inlieuof': 1, 'narcissim': 1, 'embodi': 1, 'hostil': 1, 'blacksagainsttrump': 1, 'smack': 1, 'fuuuuuuuuuuuuck': 1, 'cjreform': 1, 'deathpenalti': 1, 'juvenilejustic': 1, 'bailreform': 1, 'prosecutorialmisconduct': 1, 'dinosaur': 1, 'thefutur': 1, 'nofear': 1, 'inferioritycomplex': 1, 'fabul': 1, 'smug': 1, 'annihil': 1, 'myth': 1, 'accid': 1, 'jissu': 1, 'pple': 1, 'festiv': 1, 'whene': 1, 'bogard': 1, 'joint': 1, 'marco': 1, 'rubio': 1, 'consider': 1, 'avoic': 1, 'intrumpsamerica': 1, 'extend': 1, 'merica': 1, 'unpreced': 1, 'egomaniac': 1, 'cleans': 1, 'bethlehem': 1, 'bcot': 1, 'afl': 1, 'tattler': 1, 'afghanistan': 1, 'hip': 1, 'trendi': 1, 'scald': 1, 'ach': 1, 'chronic': 1, 'smog': 1, 'twist': 1, 'previou': 1, 'mannequinchalleng': 1, 'ceo': 1, 'mgt': 1, 'unab': 1, 'obaman': 1, 'smth': 1, 'capitalist': 1, 'labour': 1, 'environmentalist': 1, 'coalitionist': 1, 'condit': 1, 'jonjo': 1, 'kickitout': 1, 'amateur': 1, 'spank': 1, 'karachi': 1, 'sara': 1, 'unforgett': 1, 'appal': 1, 'heabroken': 1, 'doctor': 1, 'nationdivid': 1, 'duck': 1, 'irrit': 1, 'ghostbust': 1, 'indisput': 1, 'intrus': 1, 'indec': 1, 'imit': 1, 'whiner': 1, 'looney': 1, 'toon': 1, 'theme': 1, 'size': 1, 'objectifi': 1, 'wakeup': 1, 'reali': 1, 'sainsburi': 1, 'red': 1, 'stripe': 1, 'al': 1, 'capon': 1, 'evas': 1, 'achil': 1, 'nohat': 1, 'broad': 1, 'solidar': 1, 'onelov': 1, 'fabric': 1, 'iah': 1, 'unitedn': 1, 'resolv': 1, 'saturdayblogshar': 1, 'newzeeland': 1, 'plannedparenthood': 1, 'fit': 1, 'virgin': 1, 'russiag': 1, 'votersuppress': 1, 'filthi': 1, 'plantat': 1, 'locat': 1, 'manag': 1, 'sexest': 1, 'beforesex': 1, 'andrew': 1, 'jackson': 1, 'cantanker': 1, 'administr': 1, 'emmaston': 1, 'wordtrumplethinskin': 1, 'teamd': 1, 'acknowledg': 1, 'ebook': 1, 'summer': 1, 'novel': 1, 'tiffani': 1, 'mcdaniel': 1, 'ate': 1, 'award': 1, 'childlabor': 1, 'wild': 1, 'knee': 1, 'politicalcorrect': 1, 'spoti': 1, 'murrayhat': 1, 'happier': 1, 'murray': 1, 'gazza': 1, 'wifebeat': 1, 'forecast': 1, 'deserv': 1, 'career': 1, 'gen': 1, 'laughabl': 1, 'gegenrecht': 1, 'nostrach': 1, 'noafd': 1, 'nopegida': 1, 'nonazi': 1, 'aufstehn': 1, 'nerd': 1, 'raison': 1, 'etr': 1, 'incit': 1, 'jewworldord': 1, 'anaco': 1, 'wohless': 1, 'blessedt': 1, 'lovebeingalegend': 1, 'tefugeeswelcom': 1, 'constantli': 1, 'anxieti': 1, 'gu': 1, 'greatest': 1, 'lithuania': 1, 'lisa': 1, 'cuckold': 1, 'followm': 1, 'cuck': 1, 'loyal': 1, 'farmer': 1, 'beaten': 1, 'loteni': 1, 'fa': 1, 'behaviour': 1, 'trumpleak': 1, 'misogynisttrump': 1, 'frnd': 1, 'aberdeen': 1, 'mediamisogyni': 1, 'interfer': 1, 'crosscheck': 1, 'suppress': 1, 'outdat': 1, 'hanukkah': 1, 'andrewanglin': 1, 'tyruswong': 1, 'bambi': 1, 'aist': 1, 'thwa': 1, 'constrain': 1, 'thoughj': 1, 'caucasian': 1, 'lockerroomtalk': 1, 'appreci': 1, 'randomli': 1, 'tsa': 1, 'surli': 1, 'mofo': 1, 'youdisgustm': 1, 'kickrock': 1, 'dumbass': 1, 'uae': 1, 'innov': 1, 'architectur': 1, 'wilmington': 1, 'peacekeep': 1, 'cnv': 1, 'climat': 1, 'uday': 1, 'qusay': 1, 'malay': 1, 'wew': 1, 'diff': 1, 'moveabl': 1, 'fea': 1, 'melania': 1, 'ti': 1, 'season': 1, 'thepoliticalmillenni': 1, 'style': 1, 'tie': 1, 'experienc': 1, 'jumpedthesh': 1, 'competit': 1, 'verbal': 1, 'assail': 1, 'foreign': 1, 'parentag': 1, 'mccain': 1, 'cell': 1, 'grave': 1, 'dissent': 1, 'recast': 1, 'unchain': 1, 'invis': 1, 'champion': 1, 'antisemet': 1, 'gee': 1, 'priviledg': 1, 'beast': 1, 'melanin': 1, 'poetri': 1, 'comrad': 1, 'erica': 1, 'avenu': 1, 'doesnt': 1, 'domest': 1, 'defil': 1, 'biopolit': 1, 'fashion': 1, 'notfit': 1, 'lactat': 1, 'consult': 1, 'hube': 1, 'humphrey': 1, 'estat': 1, 'excit': 1, 'theyr': 1, 'interven': 1, 'berat': 1, 'lazi': 1, 'uppiti': 1, 'sho': 1, 'raceplay': 1, 'sketch': 1, 'broader': 1, 'phenomenon': 1, 'reemerg': 1, 'discours': 1, 'cityjourn': 1, 'azealia': 1, 'mcmillan': 1, 'lmfao': 1, 'prejud': 1, 'oppressi': 1, 'circl': 1, 'mtvwhiteguy': 1, 'bracelet': 1, 'blackliv': 1, 'instagram': 1, 'bestfeatur': 1, 'congressman': 1, 'capitol': 1, 'volunt': 1, 'hitlerjugend': 1, 'chaer': 1, 'tbt': 1, 'lobotomi': 1, 'panti': 1, 'pandi': 1, 'infam': 1, 'maneuv': 1, 'affection': 1, 'baptiz': 1, 'nope': 1, 'observ': 1, 'socialclass': 1, 'presidentobama': 1, 'micheleobama': 1, 'utter': 1, 'snatch': 1, 'wig': 1, 'cutsi': 1, 'construct': 1, 'remak': 1, 'hi': 1, 'token': 1, 'carolsbycandlelight': 1, 'fighter': 1, 'doll': 1, 'batshit': 1, 'notracist': 1, 'stepmom': 1, 'v': 1, 'freemason': 1, 'fill': 1, 'sexualbulli': 1, 'netanyah': 1, 'phone': 1, 'separ': 1, 'distinct': 1, 'aleppo': 1, 'berlinattack': 1, 'bagdad': 1, 'pari': 1, 'getreal': 1, 'couesi': 1, 'miriam': 1, 'herschlag': 1, 'haim': 1, 'yavin': 1, 'eren': 1, 'tasar': 1, 'sblaar': 1, 'whose': 1, 'canadianvalu': 1, 'weaken': 1, 'inve': 1, 'aussi': 1, 'cresc': 1, 'bud': 1, 'breakfast': 1, 'nojustic': 1, 'loserpizza': 1, 'pornstar': 1, 'donaldduck': 1, 'sweetpotato': 1, 'rachelmaddow': 1, 'rhashtag': 1, 'epitomeofsorrow': 1, 'defineepitom': 1, 'quickli': 1, 'hmm': 1, 'smackdown': 1, 'unitedstateschampion': 1, 'uschampion': 1, 'sdlive': 1, 'coffin': 1, 'mud': 1, 'songword': 1, 'showmeyoureawoman': 1, 'seventi': 1, 'signofthetim': 1, 'tl': 1, 'chess': 1, 'queen': 1, 'downwiththetriarchi': 1, 'thefutureisfemal': 1, 'freedownload': 1, 'peek': 1, 'holier': 1, 'moi': 1, 'misunderstood': 1, 'trumpracist': 1, 'trumpconaist': 1, 'censor': 1, 'everythingisracist': 1, 'robbiewilliam': 1, 'slutti': 1, 'littlemix': 1, 'bat': 1, 'lid': 1, 'shade': 1, 'veteran': 1, 'iraq': 1, 'mario': 1, 'harsh': 1, 'chariti': 1, 'bugg': 1, 'babi': 1, 'mama': 1, 'biraci': 1, 'braid': 1, 'joemixon': 1, 'espn': 1, 'minnesotavik': 1, 'sucklahoma': 1, 'oab': 1, 'hidden': 1, 'rampant': 1, 'reel': 1, 'smileyong': 1, 'kingconrad': 1, 'prohibit': 1, 'tennesse': 1, 'florida': 1, 'utah': 1, 'neoliber': 1, 'priorit': 1, 'zurich': 1, 'heaven': 1, 'etern': 1, 'mormoni': 1, 'shocker': 1, 'leftard': 1, 'islamist': 1, 'organis': 1, 'neilerikson': 1, 'footag': 1, 'topless': 1, 'legal': 1, 'intersect': 1, 'bu': 1, 'whitefemin': 1, 'oven': 1, 'jewishjok': 1, 'extraordinair': 1, 'fascismo': 1, 'jab': 1, 'victimis': 1, 'whale': 1, 'boycottaustralia': 1, 'incompit': 1, 'delusion': 1, 'intercours': 1, 'armpit': 1, 'hairli': 1, 'rabid': 1, 'harlem': 1, 'worri': 1, 'latino': 1, 'survey': 1, 'deseret': 1, 'hyper': 1, 'bustyesco': 1, 'metric': 1, 'nonsen': 1, 'utterli': 1, 'amor': 1, 'socialju': 1, 'fightback': 1, 'peacein': 1, 'arc': 1, 'mon': 1, 'slide': 1, 'scale': 1, 'cambma': 1, 'harvardsq': 1, 'workshop': 1, 'ohhhh': 1, 'childrenofcolor': 1, 'opt': 1, 'jessica': 1, 'bdsm': 1, 'bradshaw': 1, 'karl': 1, 'insensit': 1, 'melo': 1, 'mike': 1, 'tomlin': 1, 'skynew': 1, 'dkpol': 1, 'brazilian': 1, 'unlik': 1, 'luck': 1, 'womensissu': 1, 'opendemocraci': 1, 'coulda': 1, 'anger': 1, 'cuz': 1, 'gladshesgon': 1, 'nohop': 1, 'farm': 1, 'navi': 1, 'omarosa': 1, 'statu': 1, 'libearian': 1, 'whiter': 1, 'federlin': 1, 'silveragatka': 1, 'michaelacoel': 1, 'colou': 1, 'healthi': 1, 'battl': 1, 'access': 1, 'goppropaganda': 1, 'genderinequ': 1, 'cora': 1, 'detent': 1, 'msdhu': 1, 'faisal': 1, 'verizon': 1, 'moto': 1, 'poweothewomen': 1, 'bankrupt': 1, 'buttholemouth': 1, 'whiteprivelag': 1, 'daddygavemeamillion': 1, 'upenn': 1, 'freshmen': 1, 'lynch': 1, 'calendar': 1, 'avitar': 1, 'tire': 1, 'fluentli': 1, 'illustr': 1, 'mediocr': 1, 'flatter': 1, 'consum': 1, 'kingfish': 1, 'busili': 1, 'economicapaheid': 1, 'intend': 1, 'ifyousawinyouwhatise': 1, 'kwanza': 1, 'jehova': 1, 'wit': 1, 'morgan': 1, 'freeman': 1, 'wail': 1, 'prolaps': 1, 'natt': 1, 'chanapa': 1, 'nu': 1, 'dumbfuck': 1, 'convers': 1, 'teammichaelpalag': 1, 'teamcanc': 1, 'psychopath': 1, 'clown': 1, 'review': 1, 'merci': 1, 'later': 1, 'vital': 1, 'influenc': 1, 'demean': 1, 'keithellison': 1, 'keithx': 1, 'dncchair': 1, 'innerc': 1, 'kathi': 1, 'miller': 1, 'jolli': 1, 'hack': 1, 'ed': 1, 'op': 1, 'lolol': 1, 'leb': 1, 'lpc': 1, 'canpoli': 1, 'discredit': 1, 'dummi': 1, 'biggotri': 1, 'kpop': 1, 'kpopdanc': 1, 'metaphor': 1, 'reson': 1, 'vulgar': 1, 'cogniz': 1, 'blogger': 1, 'fostercar': 1, 'basic': 1, 'euroscept': 1, 'isolationist': 1, 'tribal': 1, 'spot': 1, 'bwahahahahaha': 1, 'condescend': 1, 'bodyimag': 1, 'nuditi': 1, 'nudist': 1, 'draftdodg': 1, 'flashbackfriday': 1, 'nomine': 1, 'alternet': 1, 'contend': 1, 'loathsom': 1, 'round': 1, 'ear': 1, 'satir': 1, 'easier': 1, 'unfoun': 1, 'commonwealth': 1, 'internet': 1, 'fullretard': 1, 'nzpol': 1, 'merkel': 1, 'hispter': 1, 'svpol': 1, 'theview': 1, 'bla': 1, 'comedian': 1, 'irishman': 1, 'ongo': 1, 'nite': 1, 'bibl': 1, 'map': 1, 'event': 1, 'discipl': 1, 'unbo': 1, 'breast': 1, 'whatsoev': 1, 'eyetalian': 1, 'atheist': 1, 'jackass': 1, 'reefer': 1, 'ansling': 1, 'cannabi': 1, 'swingtanzenverboten': 1, 'beach': 1, 'vedic': 1, 'astrolog': 1, 'predict': 1, 'mafucka': 1, 'camber': 1, 'sand': 1, 'wave': 1, 'resili': 1, 'ellicottsquarebuild': 1, 'own': 1, 'li': 1, 'nc': 1, 'lawmak': 1, 'disenfranchis': 1, 'near': 1, 'surgic': 1, 'areclueless': 1, 'shag': 1, 'rider': 1, 'finland': 1, 'christia': 1, 'usual': 1, 'victoria': 1, 'secret': 1, 'shopper': 1, 'cwt': 1, 'thoma': 1, 'howel': 1, 'panther': 1, 'milwauke': 1, 'ck': 1, 'stoptalk': 1, 'viciou': 1, 'fl': 1, 'aim': 1, 'laser': 1, 'pointer': 1, 'nofur': 1, 'animalright': 1, 'noyulin': 1, 'wildlif': 1, 'vegan': 1, 'cosmeticsbrand': 1, 'crave': 1, 'authoritarian': 1, 'generationkkk': 1, 'skywilliam': 1, 'camron': 1, 'diaz': 1, 'buggeroffbori': 1, 'bregret': 1, 'voteleav': 1, 'leaveeu': 1, 'seattl': 1, 'seahawk': 1, 'helm': 1, 'moronsmatt': 1, 'woobietuesday': 1, 'instrument': 1, 'abet': 1, 'charlespaladino': 1, 'mutual': 1, 'transphobia': 1, 'enablin': 1, 'bml': 1, 'cunt': 1, 'onto': 1, 'galeri': 1, 'cctv': 1, 'horrif': 1, 'norrisgreen': 1, 'exagger': 1, 'dumbingdownofamerica': 1, 'foolish': 1, 'request': 1, 'essenti': 1, 'abl': 1, 'zit': 1, 'beensqueez': 1, 'lee': 1, 'atwat': 1, 'tape': 1, 'strategi': 1, 'cabinet': 1, 'stellar': 1, 'planet': 1, 'extinct': 1, 'stopthewar': 1, 'demonstr': 1, 'feign': 1, 'excrement': 1, 'reapprais': 1, 'victimhood': 1, 'sunday': 1, 'kot': 1, 'intermitt': 1, 'populationcontrol': 1, 'rr': 1, 'princecharl': 1, 'sister': 1, 'unamerican': 1, 'kitazatoshibasaburo': 1, 'tetanusimmun': 1, 'kitazato': 1, 'didnot': 1, 'nobelpr': 1, 'obvious': 1, 'inaspanof': 1, 'allof': 1, 'cook': 1, 'ridicul': 1, 'pack': 1, 'pavillion': 1, 'calm': 1, 'procrastin': 1, 'shitshow': 1, 'copkil': 1, 'nutshel': 1, 'malcolm': 1, 'reconcili': 1, 'vengeanc': 1, 'lg': 1, 'clickbait': 1, 'irrefut': 1, 'truism': 1, 'inde': 1, 'ride': 1, 'trumphat': 1, 'machin': 1, 'sic': 1, 'reli': 1, 'bankruptci': 1, 'xenopbobia': 1, 'taragon': 1, 'christmassi': 1, 'herb': 1, 'whiteknight': 1, 'bjork': 1, 'wrote': 1, 'essay': 1, 'applaud': 1, 'cotton': 1, 'waronchristma': 1, 'spreadlovethischristma': 1, 'copi': 1, 'interact': 1, 'sdoh': 1, 'marathi': 1, 'facemask': 1, 'unintent': 1, 'moredun': 1, 'facinghi': 1, 'redcov': 1, 'cost': 1, 'loosah': 1, 'propos': 1, 'hmmm': 1, 'minoritypresid': 1, 'ergo': 1, 'happykwanzaa': 1, 'cpcldr': 1, 'elxn': 1, 'mp': 1, 'cpc': 1, 'shadow': 1, 'wellduh': 1, 'prayer': 1, 'perspect': 1, 'refresh': 1, 'fatherhood': 1, 'shall': 1, 'aberr': 1, 'disdain': 1, 'infant': 1, 'universityofwisconsinmadison': 1, 'problemofwhit': 1, 'orgasm': 1, 'film': 1, 'whitey': 1, 'darkest': 1, 'moviefon': 1, 'postholiday': 1, 'nowthattheholidaysaredon': 1, 'ametur': 1, 'woodrow': 1, 'wilson': 1, 'gene': 1, 'tremend': 1, 'corp': 1, 'design': 1, 'jumpsuit': 1, 'button': 1, 'shuckinandjivin': 1, 'putinpl': 1, 'endofth': 1, 'obamalegaci': 1, 'neg': 1, 'confus': 1, 'donuldtrump': 1, 'replacyclay': 1, 'patriarch': 1, 'genuin': 1, 'whiteaustralianpolici': 1, 'au': 1, 'manifestdestini': 1, 'sooooo': 1, 'institution': 1, 'naacp': 1, 'kissmyars': 1, 'smooth': 1, 'sunburi': 1, 'pennsylvania': 1, 'flier': 1, 'mosqu': 1, 'jemel': 1, 'thrive': 1, 'supremec': 1, 'scotu': 1, 'foretold': 1, 'globe': 1, 'depend': 1, 'highest': 1, 'lowest': 1, 'nelsonmandela': 1, 'damon': 1, 'sajnani': 1, 'damonsajnani': 1, 'wene': 1, 'ageoftrump': 1, 'grassrootsact': 1, 'citizenact': 1, 'citizenri': 1, 'publicpolici': 1, 'gracemugab': 1, 'mugab': 1, 'zimbabw': 1, 'hardcoresex': 1, 'sham': 1, 'decis': 1, 'stain': 1, 'hiv': 1, 'infect': 1, 'oral': 1, 'blacksupremacist': 1, 'suprem': 1, 'invent': 1, 'goyim': 1, 'finest': 1, 'notallmen': 1, 'alliesforblackl': 1, 'genderequ': 1, 'misrepresent': 1, 'itstheendoftheworldand': 1, 'nobodi': 1, 'fearmong': 1, 'auspo': 1, 'hansen': 1, 'paulin': 1, 'senat': 1, 'chat': 1, 'maria': 1, 'wakemeupwhen': 1, 'liberallog': 1, 'dylann': 1, 'roof': 1, 'highstool': 1, 'snostalgia': 1, 'gollybar': 1, 'merocrush': 1, 'known': 1, 'garbagepailkid': 1, 'allgrownup': 1, 'potenti': 1, 'damag': 1, 'nowher': 1, 'digit': 1, 'mrminor': 1, 'progresverebel': 1, 'demor': 1, 'saga': 1, 'trumpdarkzon': 1, 'myoneresolut': 1, 'rockinev': 1, 'sexpred': 1, 'sexualassult': 1, 'endofcivil': 1, 'islamofascist': 1, 'surfac': 1, 'nofascist': 1, 'chop': 1, 'obes': 1, 'knock': 1, 'pride': 1, 'lifestyl': 1, 'blueeyesbrowney': 1, 'peni': 1, 'hump': 1, 'basi': 1, 'carolina': 1, 'reactionari': 1, 'hc': 1, 'household': 1, 'onlywhitechristma': 1, 'algona': 1, 'absurd': 1, 'dumbest': 1, 'whiteguy': 1, 'birmingham': 1, 'sleep': 1, 'terribl': 1, 'gfi': 1, 'aris': 1, 'farah': 1, 'gotta': 1, 'darn': 1, 'republicantrash': 1, 'neve': 1, 'presidenttrump': 1, 'roll': 1, 'web': 1, 'freedomofspeech': 1, 'humanrightswatch': 1, 'iamnotab': 1, 'nobord': 1, 'ku': 1, 'klux': 1, 'freed': 1, 'sympath': 1, 'jealousi': 1, 'realhousew': 1, 'shere': 1, 'permit': 1, 'rhoa': 1, 'storyvil': 1, 'postion': 1, 'goodluck': 1, 'tarnish': 1, 'reput': 1, 'suppos': 1, 'quiet': 1, 'dive': 1, 'fix': 1, 'messiah': 1, 'hebrew': 1, 'occupi': 1, 'plight': 1, 'emperor': 1, 'san': 1, 'neveool': 1, 'dc': 1, 'sue': 1, 'guard': 1, 'marin': 1, 'fearlessli': 1, 'mob': 1, 'reconsid': 1, 'glitter': 1, 'stuf': 1, 'skinni': 1, 'jean': 1, 'hipster': 1, 'comb': 1, 'shroud': 1, 'louisvil': 1, 'exposerac': 1, 'depl': 1, 'confederateflag': 1, 'stanc': 1, 'thur': 1, 'crab': 1, 'unwel': 1, 'carlpalidino': 1, 'vomit': 1, 'truckload': 1, 'firstfamili': 1, 'fuel': 1, 'leejasp': 1, 'convo': 1, 'epidem': 1, 'atsi': 1, 'featur': 1, 'snapchat': 1, 'gear': 1, 'pl': 1, 'feb': 1, 'favorit': 1, 'aleksandr': 1, 'dugin': 1, 'slit': 1, 'throat': 1, 'taxwriteoff': 1, 'nonprofitstatu': 1, 'surviv': 1, 'asap': 1, 'suspend': 1, 'lesbian': 1, 'antic': 1, 'purposedli': 1, 'wakeupamericaca': 1, 'legaci': 1, 'croni': 1, 'wwi': 1, 'wwii': 1, 'trumpli': 1, 'prey': 1, 'slavelabor': 1, 'egg': 1, 'spam': 1, 'terrestri': 1, 'scifi': 1, 'sciencefict': 1, 'kindleunlimit': 1, 'pap': 1, 'bee': 1, 'quota': 1, 'muslimpo': 1, 'window': 1, 'skinhead': 1, 'supremacist': 1, 'oprollredrol': 1, 'steubenvil': 1, 'likrichmond': 1, 'trentmay': 1, 'mysteri': 1, 'avers': 1, 'how': 1, 'tackl': 1, 'sdg': 1, 'edchat': 1, 'whitepriv': 1, 'proudtobeanamerican': 1, 'moment': 1, 'hanniti': 1, 'semi': 1, 'baycat': 1, 'empower': 1, 'slip': 1, 'legisl': 1, 'staywok': 1, 'wp': 1, 'probat': 1, 'blackperson': 1, 'neogaf': 1, 'pmet': 1, 'youth': 1, 'parliament': 1, 'app': 1, 'pizzag': 1, 'starwarsrogueon': 1, 'cbb': 1, 'takin': 1, 'humor': 1, 'jibe': 1, 'corrupttrump': 1, 'sexoffend': 1, 'notmyprez': 1, 'taxevad': 1, 'ten': 1, 'stammend': 1, 'distract': 1, 'lousi': 1, 'qb': 1, 'probab': 1, 'abpoli': 1, 'yyc': 1, 'yeg': 1, 'ottawa': 1, 'nbc': 1, 'culturesway': 1, 'simpleton': 1, 'front': 1, 'center': 1, 'rehir': 1, 'claycountydevelopmentcorp': 1, 'preval': 1, 'assur': 1, 'disc': 1, 'genealog': 1, 'papalbul': 1, 'colonis': 1, 'polygeni': 1, 'pseudosci': 1, 'unpatriot': 1, 'deeper': 1, 'highlight': 1, 'samwu': 1, 'variou': 1, 'municip': 1, 'naboomspruit': 1, 'scientist': 1, 'afamhist': 1, 'um': 1, 'cri': 1, 'corner': 1, 'approx': 1, 'tinyfingeredpuppet': 1, 'mandat': 1, 'alapoet': 1, 'oughta': 1, 'jim': 1, 'crow': 1, 'ect': 1, 'jcpenney': 1, 'rhonda': 1, 'tea': 1, 'imwithh': 1, 'lib': 1, 'wo': 1, 'ill': 1, 'nativ': 1, 'spanish': 1, 'rima': 1, 'rega': 1, 'regim': 1, 'gaza': 1, 'coher': 1, 'stabl': 1, 'homosex': 1, 'clich': 1, 'semant': 1, 'closet': 1, 'pose': 1, 'nuff': 1, 'dl': 1, 'miloyiannopoulo': 1, 'spirit': 1, 'perfum': 1, 'furor': 1, 'equival': 1, 'abd': 1, 'buddhist': 1, 'burmes': 1, 'buddhism': 1, 'eco': 1, 'butthucreep': 1, 'transsexi': 1, 'nobdi': 1, 'conaist': 1, 'islamaphob': 1, 'russianhack': 1, 'nomand': 1, 'dna': 1, 'unrepent': 1, 'affair': 1, 'nikita': 1, 'bestoftheweek': 1, 'blowjob': 1, 'witho': 1, 'publicserviceannounc': 1, 'inspirechang': 1, 'embraceyourself': 1, 'bediffer': 1, 'anothr': 1, 'bloat': 1, 'jerodtwin': 1, 'collud': 1, 'angrygaymafia': 1, 'koolaid': 1, 'guzzl': 1, 'hasbeen': 1, 'flush': 1, 'simplist': 1, 'worldview': 1, 'soundbit': 1, 'combin': 1, 'merg': 1, 'victori': 1, 'obstacl': 1, 'conormcgregor': 1, 'mouth': 1, 'endlessli': 1, 'glee': 1, 'racecard': 1, 'exhaust': 1, 'heabreak': 1, 'helpless': 1, 'verifi': 1, 'koetankauk': 1, 'nov': 1, 'ss': 1, 'toss': 1, 'bin': 1, 'hull': 1, 'duke': 1, 'imo': 1, 'princess': 1, 'eugeni': 1, 'row': 1, 'goodonedean': 1, 'metoo': 1, 'vehicl': 1, 'poster': 1, 'sing': 1, 'levin': 1, 'increas': 1, 'infidel': 1, 'childabus': 1, 'backhand': 1, 'misogoni': 1, 'spectrum': 1, 'timwis': 1, 'colorblind': 1, 'trendol': 1, 'historicalamnesia': 1, 'sma': 1, 'winger': 1, 'useless': 1, 'appendix': 1, 'tha': 1, 'catdjt': 1, 'wmn': 1, 'sext': 1, 'procreat': 1, 'nomor': 1, 'bringbackpag': 1, 'thanksjackass': 1, 'packyourshitobama': 1, 'dearfellowwhitepeopl': 1, 'tattoo': 1, 'sa': 1, 'purg': 1, 'agit': 1, 'donni': 1, 'legitim': 1, 'doctrin': 1, 'incl': 1, 'ultranation': 1, 'chingua': 1, 'prank': 1, 'slapcam': 1, 'offensivemem': 1, 'bigli': 1, 'apostoli': 1, 'fotiadi': 1, 'trht': 1, 'cker': 1, 'hugh': 1, 'muir': 1, 'villi': 1, 'wang': 1, 'tedinstitut': 1, 'jokeoftheday': 1, 'pun': 1, 'tornado': 1, 'ruin': 1, 'capabl': 1, 'ssn': 1, 'network': 1, 'jgirl': 1, 'playground': 1, 'homosexu': 1, 'sewer': 1, 'sniff': 1, 'nano': 1, 'underli': 1, 'flippant': 1, 'weird': 1, 'teeth': 1, 'badg': 1, 'burbank': 1, 'armenian': 1, 'policeman': 1, 'diagram': 1, 'provok': 1, 'neighbour': 1, 'nois': 1, 'uncivilis': 1, 'biolog': 1, 'rottweil': 1, 'chihuahua': 1, 'stockholm': 1, 'yield': 1, 'afternoon': 1, 'letter': 1, 'pipe': 1, 'meanwhil': 1, 'distinguish': 1, 'scene': 1, 'terminolog': 1, 'nafri': 1, 'andysess': 1, 'brought': 1, 'nevermypresid': 1, 'taint': 1, 'vestal': 1, 'pupil': 1, 'su': 1, 'classroom': 1, 'grabyourwallet': 1, 'funer': 1, 'literaci': 1, 'adultedu': 1, 'killallwhitemen': 1, 'amaz': 1, 'athlet': 1, 'strang': 1, 'twonitwittrumpsuppo': 1, 'documentari': 1, 'amid': 1, 'nosurpris': 1, 'trumpinaugur': 1, 'polygamist': 1, 'kin': 1, 'moneyovermor': 1, 'chomski': 1, 'internationallaw': 1, 'occup': 1, 'meaningless': 1, 'videogam': 1, 'specif': 1, 'marvel': 1, 'streetfight': 1, 'skank': 1, 'pussygrabb': 1, 'meltingpot': 1, 'becomin': 1, 'johnrkhoward': 1, 'wlk': 1, 'aftr': 1, 'ddnt': 1, 'wnt': 1, 'tht': 1, 'nevr': 1, 'waronwomen': 1, 'guncontrol': 1, 'emb': 1, 'prime': 1, 'react': 1, 'swampmonst': 1, 'popefr': 1, 'catholicchurch': 1, 'pasti': 1, 'rockett': 1, 'msian': 1, 'bangladeshi': 1, 'bn': 1, 'boycotttigerwood': 1, 'neocoloni': 1, 'heater': 1, 'pubfrict': 1, 'houston': 1, 'midtown': 1, 'aungsansuukyi': 1, 'persecut': 1, 'asean': 1, 'burma': 1, 'peh': 1, 'venu': 1, 'enteain': 1, 'vaw': 1, 'bandi': 1, 'justsay': 1, 'bruh': 1, 'deltaairlin': 1, 'debacl': 1, 'traffick': 1, 'katiesikphoto': 1, 'thesexismproject': 1, 'horizon': 1, 'reach': 1, 'somebodi': 1, 'robinson': 1, 'nooltham': 1, 'eltham': 1, 'asylumseek': 1, 'dumbism': 1, 'inevit': 1, 'alon': 1, 'youngturk': 1, 'beverlywh': 1, 'reinstat': 1, 'feder': 1, 'gave': 1, 'instil': 1, 'amount': 1, 'deathwish': 1, 'afrofutur': 1, 'anarch': 1, 'magicr': 1, 'john': 1, 'favourit': 1, 'graceless': 1, 'behind': 1, 'ohodox': 1, 'worksheet': 1, 'trumpocalyps': 1, 'greet': 1, 'inciner': 1, 'bondag': 1, 'leather': 1, 'dwyan': 1, 'wade': 1, 'nbavot': 1, 'muzzi': 1, 'contradict': 1, 'fascistdemocraci': 1, 'marxism': 1, 'repoingsystem': 1, 'communitystandard': 1, 'user': 1, 'imagemakeov': 1, 'makeo': 1, 'nackt': 1, 'onlin': 1, 'lo': 1, 'situat': 1, 'norman': 1, 'bate': 1, 'psycho': 1, 'hollaback': 1, 'dividerofan': 1, 'gutter': 1, 'hammock': 1, 'altrightcard': 1, 'veto': 1, 'illegalsettl': 1, 'masjid': 1, 'franc': 1, 'cress': 1, 'wels': 1, 'drfranciscresswels': 1, 'photograph': 1, 'shockfactor': 1, 'gentlemen': 1, 'simpli': 1, 'jumpedtheshark': 1, 'judd': 1, 'mall': 1, 'omfg': 1, 'mailbox': 1, 'mailboxprid': 1, 'liberalism': 1, 'dipshit': 1}\n"
     ]
    }
   ],
   "source": [
    "from wordcloud import WordCloud\n",
    "hate_speech_df = df[df['label'] == 1]\n",
    "hate_speech_df.drop(columns = ['tweet'], inplace = True)\n",
    "not_hate_speech_df = df[df['label'] == 0]\n",
    "print(hate_speech_df)\n",
    "#get the hate speech frequencies\n",
    "hate_speech_freq = hate_speech_df['clean text'].tolist()\n",
    "\n",
    "\n",
    "#get the hate speech word frequencies and put them in a dictionary\n",
    "hate_speech_word_freq = {}\n",
    "for i in hate_speech_freq:\n",
    "    for j in i.split():\n",
    "        if j in hate_speech_word_freq:\n",
    "            hate_speech_word_freq[j] += 1\n",
    "        else:\n",
    "            hate_speech_word_freq[j] = 1\n",
    "#print(hate_speech_word_freq)\n",
    "\n",
    "\n",
    "#print word frequencies\n",
    "hate_speech_word_freq1 = {k: v for k, v in sorted(hate_speech_word_freq.items(),reverse=True, key=lambda item: item[1])}\n",
    "\n",
    "print(hate_speech_word_freq1)\n",
    "wc = WordCloud(width=800, height=400, max_words=200,stopwords=['like']).generate_from_frequencies(hate_speech_word_freq1)\n",
    "img = wc.to_image()\n",
    "img.show()\n",
    "#save the image\n",
    "img.save(\"hate_speech_wordcloud.png\")"
   ],
   "metadata": {
    "collapsed": false,
    "pycharm": {
     "name": "#%%\n"
    }
   }
  },
  {
   "cell_type": "code",
   "execution_count": 35,
   "outputs": [],
   "source": [
    "from sklearn.model_selection import train_test_split\n",
    "#Step 9: Extract the features and target\n",
    "y = df['label'].values\n",
    "#X was defined previosly as the bag of words\n",
    "#Step 10: Split the data into training set and test set.\n",
    "X_train,X_test,y_train,y_test=train_test_split(X,y,test_size=0.2,random_state=42)\n"
   ],
   "metadata": {
    "collapsed": false,
    "pycharm": {
     "name": "#%%\n"
    }
   }
  },
  {
   "cell_type": "code",
   "execution_count": 36,
   "outputs": [],
   "source": [
    "from sklearn.naive_bayes import MultinomialNB\n",
    "model=MultinomialNB()\n",
    "model.fit(X_train,y_train)\n",
    "y_pred_naivebayes=model.predict(X_test)"
   ],
   "metadata": {
    "collapsed": false,
    "pycharm": {
     "name": "#%%\n"
    }
   }
  },
  {
   "cell_type": "code",
   "execution_count": 56,
   "outputs": [
    {
     "name": "stdout",
     "output_type": "stream",
     "text": [
      "naive bayes accuracy score: 0.9368058814328172\n"
     ]
    }
   ],
   "source": [
    "from sklearn.metrics import accuracy_score\n",
    "naive_bayes_ac = accuracy_score(y_test,y_pred_naivebayes)\n",
    "print('naive bayes accuracy score:',naive_bayes_ac)"
   ],
   "metadata": {
    "collapsed": false,
    "pycharm": {
     "name": "#%%\n"
    }
   }
  },
  {
   "cell_type": "code",
   "execution_count": 41,
   "outputs": [],
   "source": [
    "\n",
    "from sklearn.linear_model import LogisticRegression\n",
    "\n",
    "simplelogistic =LogisticRegression();\n",
    "simplelogistic.fit(X_train,y_train)\n",
    "\n",
    "y_pred_log=simplelogistic.predict(X_test)\n"
   ],
   "metadata": {
    "collapsed": false,
    "pycharm": {
     "name": "#%%\n"
    }
   }
  },
  {
   "cell_type": "code",
   "execution_count": 42,
   "outputs": [
    {
     "name": "stdout",
     "output_type": "stream",
     "text": [
      "0.9488503050211169\n"
     ]
    }
   ],
   "source": [
    "\n",
    "lr_accuracy_score = accuracy_score(y_test,y_pred_log)\n",
    "print(lr_accuracy_score)"
   ],
   "metadata": {
    "collapsed": false,
    "pycharm": {
     "name": "#%%\n"
    }
   }
  },
  {
   "cell_type": "code",
   "execution_count": 43,
   "outputs": [
    {
     "name": "stderr",
     "output_type": "stream",
     "text": [
      "/Users/cristinarivera/.julia/conda/3/lib/python3.9/site-packages/sklearn/neural_network/_multilayer_perceptron.py:692: ConvergenceWarning: Stochastic Optimizer: Maximum iterations (200) reached and the optimization hasn't converged yet.\n",
      "  warnings.warn(\n"
     ]
    }
   ],
   "source": [
    "from sklearn.neural_network import MLPClassifier\n",
    "\n",
    "#Step 13: Create a slightly complicated model and check its accuracy\n",
    "simpleneuralnetwork = MLPClassifier(hidden_layer_sizes=(5));\n",
    "simpleneuralnetwork.fit(X_train,y_train)\n",
    "y_pred_NN=simpleneuralnetwork.predict(X_test)\n"
   ],
   "metadata": {
    "collapsed": false,
    "pycharm": {
     "name": "#%%\n"
    }
   }
  },
  {
   "cell_type": "code",
   "execution_count": 44,
   "outputs": [
    {
     "name": "stdout",
     "output_type": "stream",
     "text": [
      "neural network accuracy score: 0.9371187236039418\n"
     ]
    }
   ],
   "source": [
    "nn_accuracy_score = accuracy_score(y_test,y_pred_NN)\n",
    "print(\"neural network accuracy score:\",nn_accuracy_score)"
   ],
   "metadata": {
    "collapsed": false,
    "pycharm": {
     "name": "#%%\n"
    }
   }
  },
  {
   "cell_type": "code",
   "execution_count": 45,
   "outputs": [
    {
     "name": "stdout",
     "output_type": "stream",
     "text": [
      "Fitting 5 folds for each of 10 candidates, totalling 50 fits\n",
      "[CV 1/5; 1/10] START alpha=0.1..................................................\n",
      "[CV 1/5; 1/10] END ...................alpha=0.1;, score=0.938 total time=   0.7s\n",
      "[CV 2/5; 1/10] START alpha=0.1..................................................\n",
      "[CV 2/5; 1/10] END ...................alpha=0.1;, score=0.942 total time=   0.3s\n",
      "[CV 3/5; 1/10] START alpha=0.1..................................................\n",
      "[CV 3/5; 1/10] END ...................alpha=0.1;, score=0.945 total time=   0.3s\n",
      "[CV 4/5; 1/10] START alpha=0.1..................................................\n",
      "[CV 4/5; 1/10] END ...................alpha=0.1;, score=0.938 total time=   0.3s\n",
      "[CV 5/5; 1/10] START alpha=0.1..................................................\n",
      "[CV 5/5; 1/10] END ...................alpha=0.1;, score=0.941 total time=   0.3s\n",
      "[CV 1/5; 2/10] START alpha=0.2..................................................\n",
      "[CV 1/5; 2/10] END ...................alpha=0.2;, score=0.938 total time=   0.3s\n",
      "[CV 2/5; 2/10] START alpha=0.2..................................................\n",
      "[CV 2/5; 2/10] END ...................alpha=0.2;, score=0.943 total time=   0.3s\n",
      "[CV 3/5; 2/10] START alpha=0.2..................................................\n",
      "[CV 3/5; 2/10] END ...................alpha=0.2;, score=0.945 total time=   0.3s\n",
      "[CV 4/5; 2/10] START alpha=0.2..................................................\n",
      "[CV 4/5; 2/10] END ...................alpha=0.2;, score=0.937 total time=   0.3s\n",
      "[CV 5/5; 2/10] START alpha=0.2..................................................\n",
      "[CV 5/5; 2/10] END ...................alpha=0.2;, score=0.941 total time=   0.2s\n",
      "[CV 1/5; 3/10] START alpha=0.3..................................................\n",
      "[CV 1/5; 3/10] END ...................alpha=0.3;, score=0.937 total time=   0.3s\n",
      "[CV 2/5; 3/10] START alpha=0.3..................................................\n",
      "[CV 2/5; 3/10] END ...................alpha=0.3;, score=0.942 total time=   0.3s\n",
      "[CV 3/5; 3/10] START alpha=0.3..................................................\n",
      "[CV 3/5; 3/10] END ...................alpha=0.3;, score=0.944 total time=   0.2s\n",
      "[CV 4/5; 3/10] START alpha=0.3..................................................\n",
      "[CV 4/5; 3/10] END ...................alpha=0.3;, score=0.937 total time=   0.3s\n",
      "[CV 5/5; 3/10] START alpha=0.3..................................................\n",
      "[CV 5/5; 3/10] END ...................alpha=0.3;, score=0.941 total time=   0.3s\n",
      "[CV 1/5; 4/10] START alpha=0.4..................................................\n",
      "[CV 1/5; 4/10] END ...................alpha=0.4;, score=0.936 total time=   0.3s\n",
      "[CV 2/5; 4/10] START alpha=0.4..................................................\n",
      "[CV 2/5; 4/10] END ...................alpha=0.4;, score=0.941 total time=   0.2s\n",
      "[CV 3/5; 4/10] START alpha=0.4..................................................\n",
      "[CV 3/5; 4/10] END ...................alpha=0.4;, score=0.944 total time=   0.2s\n",
      "[CV 4/5; 4/10] START alpha=0.4..................................................\n",
      "[CV 4/5; 4/10] END ...................alpha=0.4;, score=0.936 total time=   0.2s\n",
      "[CV 5/5; 4/10] START alpha=0.4..................................................\n",
      "[CV 5/5; 4/10] END ...................alpha=0.4;, score=0.941 total time=   0.2s\n",
      "[CV 1/5; 5/10] START alpha=0.5..................................................\n",
      "[CV 1/5; 5/10] END ...................alpha=0.5;, score=0.936 total time=   0.2s\n",
      "[CV 2/5; 5/10] START alpha=0.5..................................................\n",
      "[CV 2/5; 5/10] END ...................alpha=0.5;, score=0.940 total time=   0.3s\n",
      "[CV 3/5; 5/10] START alpha=0.5..................................................\n",
      "[CV 3/5; 5/10] END ...................alpha=0.5;, score=0.943 total time=   0.3s\n",
      "[CV 4/5; 5/10] START alpha=0.5..................................................\n",
      "[CV 4/5; 5/10] END ...................alpha=0.5;, score=0.936 total time=   0.3s\n",
      "[CV 5/5; 5/10] START alpha=0.5..................................................\n",
      "[CV 5/5; 5/10] END ...................alpha=0.5;, score=0.940 total time=   0.2s\n",
      "[CV 1/5; 6/10] START alpha=0.6..................................................\n",
      "[CV 1/5; 6/10] END ...................alpha=0.6;, score=0.935 total time=   0.2s\n",
      "[CV 2/5; 6/10] START alpha=0.6..................................................\n",
      "[CV 2/5; 6/10] END ...................alpha=0.6;, score=0.939 total time=   0.2s\n",
      "[CV 3/5; 6/10] START alpha=0.6..................................................\n",
      "[CV 3/5; 6/10] END ...................alpha=0.6;, score=0.943 total time=   0.3s\n",
      "[CV 4/5; 6/10] START alpha=0.6..................................................\n",
      "[CV 4/5; 6/10] END ...................alpha=0.6;, score=0.935 total time=   0.2s\n",
      "[CV 5/5; 6/10] START alpha=0.6..................................................\n",
      "[CV 5/5; 6/10] END ...................alpha=0.6;, score=0.940 total time=   0.2s\n",
      "[CV 1/5; 7/10] START alpha=0.7..................................................\n",
      "[CV 1/5; 7/10] END ...................alpha=0.7;, score=0.936 total time=   0.2s\n",
      "[CV 2/5; 7/10] START alpha=0.7..................................................\n",
      "[CV 2/5; 7/10] END ...................alpha=0.7;, score=0.940 total time=   0.3s\n",
      "[CV 3/5; 7/10] START alpha=0.7..................................................\n",
      "[CV 3/5; 7/10] END ...................alpha=0.7;, score=0.943 total time=   0.3s\n",
      "[CV 4/5; 7/10] START alpha=0.7..................................................\n",
      "[CV 4/5; 7/10] END ...................alpha=0.7;, score=0.935 total time=   0.3s\n",
      "[CV 5/5; 7/10] START alpha=0.7..................................................\n",
      "[CV 5/5; 7/10] END ...................alpha=0.7;, score=0.940 total time=   0.3s\n",
      "[CV 1/5; 8/10] START alpha=0.8..................................................\n",
      "[CV 1/5; 8/10] END ...................alpha=0.8;, score=0.935 total time=   0.3s\n",
      "[CV 2/5; 8/10] START alpha=0.8..................................................\n",
      "[CV 2/5; 8/10] END ...................alpha=0.8;, score=0.939 total time=   0.3s\n",
      "[CV 3/5; 8/10] START alpha=0.8..................................................\n",
      "[CV 3/5; 8/10] END ...................alpha=0.8;, score=0.942 total time=   0.3s\n",
      "[CV 4/5; 8/10] START alpha=0.8..................................................\n",
      "[CV 4/5; 8/10] END ...................alpha=0.8;, score=0.935 total time=   0.2s\n",
      "[CV 5/5; 8/10] START alpha=0.8..................................................\n",
      "[CV 5/5; 8/10] END ...................alpha=0.8;, score=0.940 total time=   0.2s\n",
      "[CV 1/5; 9/10] START alpha=0.9..................................................\n",
      "[CV 1/5; 9/10] END ...................alpha=0.9;, score=0.935 total time=   0.2s\n",
      "[CV 2/5; 9/10] START alpha=0.9..................................................\n",
      "[CV 2/5; 9/10] END ...................alpha=0.9;, score=0.939 total time=   0.2s\n",
      "[CV 3/5; 9/10] START alpha=0.9..................................................\n",
      "[CV 3/5; 9/10] END ...................alpha=0.9;, score=0.942 total time=   0.3s\n",
      "[CV 4/5; 9/10] START alpha=0.9..................................................\n",
      "[CV 4/5; 9/10] END ...................alpha=0.9;, score=0.934 total time=   0.2s\n",
      "[CV 5/5; 9/10] START alpha=0.9..................................................\n",
      "[CV 5/5; 9/10] END ...................alpha=0.9;, score=0.940 total time=   0.2s\n",
      "[CV 1/5; 10/10] START alpha=1.0.................................................\n",
      "[CV 1/5; 10/10] END ..................alpha=1.0;, score=0.935 total time=   0.3s\n",
      "[CV 2/5; 10/10] START alpha=1.0.................................................\n",
      "[CV 2/5; 10/10] END ..................alpha=1.0;, score=0.939 total time=   0.2s\n",
      "[CV 3/5; 10/10] START alpha=1.0.................................................\n",
      "[CV 3/5; 10/10] END ..................alpha=1.0;, score=0.942 total time=   0.2s\n",
      "[CV 4/5; 10/10] START alpha=1.0.................................................\n",
      "[CV 4/5; 10/10] END ..................alpha=1.0;, score=0.933 total time=   0.2s\n",
      "[CV 5/5; 10/10] START alpha=1.0.................................................\n",
      "[CV 5/5; 10/10] END ..................alpha=1.0;, score=0.940 total time=   0.2s\n"
     ]
    },
    {
     "data": {
      "text/plain": "GridSearchCV(estimator=MultinomialNB(),\n             param_grid={'alpha': [0.1, 0.2, 0.3, 0.4, 0.5, 0.6, 0.7, 0.8, 0.9,\n                                   1.0]},\n             scoring='accuracy', verbose=10)"
     },
     "execution_count": 45,
     "metadata": {},
     "output_type": "execute_result"
    }
   ],
   "source": [
    "\n",
    "from sklearn.model_selection import GridSearchCV\n",
    "\n",
    "NB=MultinomialNB()\n",
    "\n",
    "params1 = {'alpha':[0.1,0.2,0.3,0.4,0.5,0.6,0.7,0.8,0.9,1.0]}\n",
    "grid_search_NB = GridSearchCV(estimator=NB,param_grid=params1,scoring='accuracy',verbose=10)\n",
    "grid_search_NB.fit(X_train,y_train)\n",
    "\n"
   ],
   "metadata": {
    "collapsed": false,
    "pycharm": {
     "name": "#%%\n"
    }
   }
  },
  {
   "cell_type": "code",
   "execution_count": 53,
   "outputs": [
    {
     "data": {
      "text/plain": "           params  mean_test_score\n0  {'alpha': 0.1}         0.940788\n1  {'alpha': 0.2}         0.940827\n2  {'alpha': 0.3}         0.940084\n3  {'alpha': 0.4}         0.939614\n4  {'alpha': 0.5}         0.939028\n5  {'alpha': 0.6}         0.938519\n6  {'alpha': 0.7}         0.938754\n7  {'alpha': 0.8}         0.938363\n8  {'alpha': 0.9}         0.938206\n9  {'alpha': 1.0}         0.937933",
      "text/html": "<div>\n<style scoped>\n    .dataframe tbody tr th:only-of-type {\n        vertical-align: middle;\n    }\n\n    .dataframe tbody tr th {\n        vertical-align: top;\n    }\n\n    .dataframe thead th {\n        text-align: right;\n    }\n</style>\n<table border=\"1\" class=\"dataframe\">\n  <thead>\n    <tr style=\"text-align: right;\">\n      <th></th>\n      <th>params</th>\n      <th>mean_test_score</th>\n    </tr>\n  </thead>\n  <tbody>\n    <tr>\n      <th>0</th>\n      <td>{'alpha': 0.1}</td>\n      <td>0.940788</td>\n    </tr>\n    <tr>\n      <th>1</th>\n      <td>{'alpha': 0.2}</td>\n      <td>0.940827</td>\n    </tr>\n    <tr>\n      <th>2</th>\n      <td>{'alpha': 0.3}</td>\n      <td>0.940084</td>\n    </tr>\n    <tr>\n      <th>3</th>\n      <td>{'alpha': 0.4}</td>\n      <td>0.939614</td>\n    </tr>\n    <tr>\n      <th>4</th>\n      <td>{'alpha': 0.5}</td>\n      <td>0.939028</td>\n    </tr>\n    <tr>\n      <th>5</th>\n      <td>{'alpha': 0.6}</td>\n      <td>0.938519</td>\n    </tr>\n    <tr>\n      <th>6</th>\n      <td>{'alpha': 0.7}</td>\n      <td>0.938754</td>\n    </tr>\n    <tr>\n      <th>7</th>\n      <td>{'alpha': 0.8}</td>\n      <td>0.938363</td>\n    </tr>\n    <tr>\n      <th>8</th>\n      <td>{'alpha': 0.9}</td>\n      <td>0.938206</td>\n    </tr>\n    <tr>\n      <th>9</th>\n      <td>{'alpha': 1.0}</td>\n      <td>0.937933</td>\n    </tr>\n  </tbody>\n</table>\n</div>"
     },
     "execution_count": 53,
     "metadata": {},
     "output_type": "execute_result"
    }
   ],
   "source": [
    "# grid search results\n",
    "grid_result = pd.DataFrame(grid_search_NB.cv_results_)\n",
    "grid_result[['params','mean_test_score']]"
   ],
   "metadata": {
    "collapsed": false,
    "pycharm": {
     "name": "#%%\n"
    }
   }
  },
  {
   "cell_type": "code",
   "execution_count": 55,
   "outputs": [
    {
     "name": "stdout",
     "output_type": "stream",
     "text": [
      "best perimeters {'alpha': 0.2}\n"
     ]
    }
   ],
   "source": [
    "#get the best parameters\n",
    "best_params = grid_search_NB.best_params_\n",
    "print(\"best perimeters\",best_params)\n",
    "\n",
    "#gridsearch_logistic_results = gridsearch_logistic.grid_scores_"
   ],
   "metadata": {
    "collapsed": false,
    "pycharm": {
     "name": "#%%\n"
    }
   }
  },
  {
   "cell_type": "code",
   "execution_count": 29,
   "outputs": [
    {
     "name": "stdout",
     "output_type": "stream",
     "text": [
      "              precision    recall  f1-score   support\n",
      "\n",
      "           0       0.97      0.97      0.97      5937\n",
      "           1       0.63      0.58      0.60       456\n",
      "\n",
      "    accuracy                           0.95      6393\n",
      "   macro avg       0.80      0.78      0.79      6393\n",
      "weighted avg       0.94      0.95      0.94      6393\n",
      "\n"
     ]
    }
   ],
   "source": [
    "\n",
    "from sklearn.metrics import classification_report\n",
    "cf=classification_report(y_test,y_pred_naivebayes)\n",
    "print(cf)"
   ],
   "metadata": {
    "collapsed": false,
    "pycharm": {
     "name": "#%%\n"
    }
   }
  },
  {
   "cell_type": "code",
   "execution_count": 30,
   "outputs": [
    {
     "name": "stdout",
     "output_type": "stream",
     "text": [
      "[[5783  154]\n",
      " [ 193  263]]\n"
     ]
    }
   ],
   "source": [
    "from sklearn.metrics import confusion_matrix\n",
    "cm=confusion_matrix(y_test,y_pred_naivebayes)\n",
    "print(cm)"
   ],
   "metadata": {
    "collapsed": false,
    "pycharm": {
     "name": "#%%\n"
    }
   }
  },
  {
   "cell_type": "code",
   "execution_count": 31,
   "outputs": [
    {
     "data": {
      "text/plain": "0.9457218833098702"
     },
     "execution_count": 31,
     "metadata": {},
     "output_type": "execute_result"
    }
   ],
   "source": [
    "from sklearn.metrics import accuracy_score\n",
    "nb_acc = accuracy_score(y_test,y_pred_naivebayes)"
   ],
   "metadata": {
    "collapsed": false,
    "pycharm": {
     "name": "#%%\n"
    }
   }
  },
  {
   "cell_type": "code",
   "execution_count": null,
   "outputs": [],
   "source": [
    "import numpy as np\n",
    "from sklearn.linear_model import LogisticRegression\n",
    "from sklearn.model_selection import GridSearchCV\n",
    "\n",
    "logreg = LogisticRegression()\n",
    "\n",
    "params = {'C': [0.01, 0.1, 0.5, 0.9],'solver':[\"newton-cg\", \"lbfgs\", \"liblinear\"]}\n",
    "\n",
    "#solver = ['newton-cg', 'lbfgs', 'liblinear']\n",
    "print(X_train.shape)\n",
    "print(y_train.shape)\n",
    "\n",
    "gridsearch_logistic = GridSearchCV(logreg,param_grid=params,verbose=10,scoring='accuracy',)\n",
    "gridsearch_logistic.fit(X_train,y_train)"
   ],
   "metadata": {
    "collapsed": false,
    "pycharm": {
     "name": "#%%\n"
    }
   }
  }
 ],
 "metadata": {
  "kernelspec": {
   "display_name": "Python 3",
   "language": "python",
   "name": "python3"
  },
  "language_info": {
   "codemirror_mode": {
    "name": "ipython",
    "version": 2
   },
   "file_extension": ".py",
   "mimetype": "text/x-python",
   "name": "python",
   "nbconvert_exporter": "python",
   "pygments_lexer": "ipython2",
   "version": "2.7.6"
  }
 },
 "nbformat": 4,
 "nbformat_minor": 0
}